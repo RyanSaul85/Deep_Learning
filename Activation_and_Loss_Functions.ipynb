{
  "nbformat": 4,
  "nbformat_minor": 0,
  "metadata": {
    "colab": {
      "name": "Activation_and_Loss_Functions.ipynb",
      "provenance": []
    },
    "kernelspec": {
      "name": "python3",
      "display_name": "Python 3"
    },
    "language_info": {
      "name": "python"
    }
  },
  "cells": [
    {
      "cell_type": "markdown",
      "source": [
        "# Importing data and libraries"
      ],
      "metadata": {
        "id": "boB1ER_PTGBo"
      }
    },
    {
      "cell_type": "code",
      "execution_count": 1,
      "metadata": {
        "id": "yOIaSEsdOG0v"
      },
      "outputs": [],
      "source": [
        "import warnings\n",
        "warnings.filterwarnings(\"ignore\")\n",
        "\n",
        "from tensorflow.keras.datasets import mnist\n",
        "from tensorflow.keras.utils import to_categorical\n",
        "from tensorflow.keras.models import Sequential \n",
        "from tensorflow.keras.layers import Dense"
      ]
    },
    {
      "cell_type": "code",
      "source": [
        "(X_train, y_train), (X_test, y_test) = mnist.load_data()\n",
        "\n",
        "input_dim = 784  # 28*28\n",
        "output_dim = nb_classes = 10\n",
        "batch_size = 128\n",
        "nb_epoch = 20\n",
        "\n",
        "X_train = X_train.reshape(60000, input_dim)\n",
        "X_test = X_test.reshape(10000, input_dim)\n",
        "X_train = X_train.astype('float32')\n",
        "X_test = X_test.astype('float32')\n",
        "X_train /= 255\n",
        "X_test /= 255"
      ],
      "metadata": {
        "colab": {
          "base_uri": "https://localhost:8080/"
        },
        "id": "_D48L3BDOVu_",
        "outputId": "17a85cbd-b7a1-4a8d-e963-86e0fdd8543d"
      },
      "execution_count": 2,
      "outputs": [
        {
          "output_type": "stream",
          "name": "stdout",
          "text": [
            "Downloading data from https://storage.googleapis.com/tensorflow/tf-keras-datasets/mnist.npz\n",
            "11493376/11490434 [==============================] - 0s 0us/step\n",
            "11501568/11490434 [==============================] - 0s 0us/step\n"
          ]
        }
      ]
    },
    {
      "cell_type": "code",
      "source": [
        "Y_train = to_categorical(y_train, nb_classes)\n",
        "Y_test = to_categorical(y_test, nb_classes)"
      ],
      "metadata": {
        "id": "wS5xGPP7Od6s"
      },
      "execution_count": 3,
      "outputs": []
    },
    {
      "cell_type": "markdown",
      "source": [
        "# Task 1. In this task, you'll implement several ANN models with different activation functions. For each, use the cross-entropy loss function as the loss function"
      ],
      "metadata": {
        "id": "Iibf-yM3PSCA"
      }
    },
    {
      "cell_type": "markdown",
      "source": [
        "## 1. Implement a three-layer ANN model with 128, 64, and 10 neurons in the layers. Use the tanh activation function for each layer."
      ],
      "metadata": {
        "id": "4LSN77VbPYdv"
      }
    },
    {
      "cell_type": "code",
      "source": [
        "model = Sequential()\n",
        "# our first dense layer is 128\n",
        "model.add(Dense(128, input_shape=(784,), activation=\"tanh\"))\n",
        "# our second dense layer is 64\n",
        "model.add(Dense(64, activation=\"tanh\"))\n",
        "# last layer, output layer, is 10\n",
        "model.add(Dense(10, activation=\"softmax\"))\n",
        "\n",
        "# using categorical crossentropy as the loss\n",
        "model.compile(optimizer='sgd', loss='categorical_crossentropy',\n",
        "              metrics=['accuracy'])\n",
        "\n",
        "# setting verbose=1 prints out some results after each epoch\n",
        "model.fit(X_train, Y_train, batch_size=batch_size, epochs=20, verbose=1)"
      ],
      "metadata": {
        "colab": {
          "base_uri": "https://localhost:8080/"
        },
        "id": "oVdN-peGPKje",
        "outputId": "8ee78472-f6e7-4d22-e561-d2586c6d065a"
      },
      "execution_count": 4,
      "outputs": [
        {
          "output_type": "stream",
          "name": "stdout",
          "text": [
            "Epoch 1/20\n",
            "469/469 [==============================] - 2s 3ms/step - loss: 1.0240 - accuracy: 0.7492\n",
            "Epoch 2/20\n",
            "469/469 [==============================] - 2s 3ms/step - loss: 0.5155 - accuracy: 0.8720\n",
            "Epoch 3/20\n",
            "469/469 [==============================] - 2s 3ms/step - loss: 0.4172 - accuracy: 0.8900\n",
            "Epoch 4/20\n",
            "469/469 [==============================] - 2s 3ms/step - loss: 0.3703 - accuracy: 0.8997\n",
            "Epoch 5/20\n",
            "469/469 [==============================] - 2s 3ms/step - loss: 0.3415 - accuracy: 0.9053\n",
            "Epoch 6/20\n",
            "469/469 [==============================] - 2s 3ms/step - loss: 0.3210 - accuracy: 0.9102\n",
            "Epoch 7/20\n",
            "469/469 [==============================] - 2s 3ms/step - loss: 0.3053 - accuracy: 0.9136\n",
            "Epoch 8/20\n",
            "469/469 [==============================] - 2s 3ms/step - loss: 0.2923 - accuracy: 0.9176\n",
            "Epoch 9/20\n",
            "469/469 [==============================] - 2s 3ms/step - loss: 0.2814 - accuracy: 0.9207\n",
            "Epoch 10/20\n",
            "469/469 [==============================] - 2s 3ms/step - loss: 0.2717 - accuracy: 0.9230\n",
            "Epoch 11/20\n",
            "469/469 [==============================] - 2s 3ms/step - loss: 0.2630 - accuracy: 0.9257\n",
            "Epoch 12/20\n",
            "469/469 [==============================] - 2s 3ms/step - loss: 0.2550 - accuracy: 0.9283\n",
            "Epoch 13/20\n",
            "469/469 [==============================] - 2s 3ms/step - loss: 0.2477 - accuracy: 0.9302\n",
            "Epoch 14/20\n",
            "469/469 [==============================] - 2s 3ms/step - loss: 0.2407 - accuracy: 0.9319\n",
            "Epoch 15/20\n",
            "469/469 [==============================] - 2s 3ms/step - loss: 0.2343 - accuracy: 0.9336\n",
            "Epoch 16/20\n",
            "469/469 [==============================] - 2s 3ms/step - loss: 0.2281 - accuracy: 0.9355\n",
            "Epoch 17/20\n",
            "469/469 [==============================] - 2s 3ms/step - loss: 0.2224 - accuracy: 0.9370\n",
            "Epoch 18/20\n",
            "469/469 [==============================] - 2s 3ms/step - loss: 0.2168 - accuracy: 0.9386\n",
            "Epoch 19/20\n",
            "469/469 [==============================] - 2s 3ms/step - loss: 0.2116 - accuracy: 0.9398\n",
            "Epoch 20/20\n",
            "469/469 [==============================] - 2s 3ms/step - loss: 0.2066 - accuracy: 0.9414\n"
          ]
        },
        {
          "output_type": "execute_result",
          "data": {
            "text/plain": [
              "<keras.callbacks.History at 0x7f41f19b7d10>"
            ]
          },
          "metadata": {},
          "execution_count": 4
        }
      ]
    },
    {
      "cell_type": "code",
      "source": [
        "score = model.evaluate(X_test, Y_test, verbose=0)\n",
        "print('Test score:', score[0])\n",
        "print('Test accuracy:', score[1])"
      ],
      "metadata": {
        "colab": {
          "base_uri": "https://localhost:8080/"
        },
        "id": "s5MaFoxiQBuu",
        "outputId": "a7b43779-c892-4028-b388-5a53fa0b559a"
      },
      "execution_count": 5,
      "outputs": [
        {
          "output_type": "stream",
          "name": "stdout",
          "text": [
            "Test score: 0.20555536448955536\n",
            "Test accuracy: 0.9416000247001648\n"
          ]
        }
      ]
    },
    {
      "cell_type": "markdown",
      "source": [
        "## 2. Implement a three-layer ANN model with 128, 64, and 10 neurons in the layers. Use the sigmoid activation function for each layer."
      ],
      "metadata": {
        "id": "8GxKYYmwQTrn"
      }
    },
    {
      "cell_type": "code",
      "source": [
        "model = Sequential()\n",
        "# our first dense layer is 128\n",
        "model.add(Dense(128, input_shape=(784,), activation=\"sigmoid\"))\n",
        "# our second dense layer is 64\n",
        "model.add(Dense(64, activation=\"sigmoid\"))\n",
        "# last layer, output layer, is 10\n",
        "model.add(Dense(10, activation=\"softmax\"))\n",
        "\n",
        "# using categorical crossentropy as the loss\n",
        "model.compile(optimizer='sgd', loss='categorical_crossentropy',\n",
        "              metrics=['accuracy'])\n",
        "\n",
        "# setting verbose=1 prints out some results after each epoch\n",
        "model.fit(X_train, Y_train, batch_size=batch_size, epochs=20, verbose=1)"
      ],
      "metadata": {
        "colab": {
          "base_uri": "https://localhost:8080/"
        },
        "id": "d0nLKZB2QKPd",
        "outputId": "031eb1c0-29a2-4966-c234-f944a5ff3471"
      },
      "execution_count": 6,
      "outputs": [
        {
          "output_type": "stream",
          "name": "stdout",
          "text": [
            "Epoch 1/20\n",
            "469/469 [==============================] - 2s 3ms/step - loss: 2.2806 - accuracy: 0.1877\n",
            "Epoch 2/20\n",
            "469/469 [==============================] - 2s 3ms/step - loss: 2.2196 - accuracy: 0.3766\n",
            "Epoch 3/20\n",
            "469/469 [==============================] - 2s 3ms/step - loss: 2.1482 - accuracy: 0.5003\n",
            "Epoch 4/20\n",
            "469/469 [==============================] - 2s 3ms/step - loss: 2.0472 - accuracy: 0.5575\n",
            "Epoch 5/20\n",
            "469/469 [==============================] - 2s 3ms/step - loss: 1.9052 - accuracy: 0.5942\n",
            "Epoch 6/20\n",
            "469/469 [==============================] - 2s 3ms/step - loss: 1.7259 - accuracy: 0.6209\n",
            "Epoch 7/20\n",
            "469/469 [==============================] - 2s 3ms/step - loss: 1.5351 - accuracy: 0.6539\n",
            "Epoch 8/20\n",
            "469/469 [==============================] - 2s 3ms/step - loss: 1.3602 - accuracy: 0.6858\n",
            "Epoch 9/20\n",
            "469/469 [==============================] - 2s 3ms/step - loss: 1.2118 - accuracy: 0.7180\n",
            "Epoch 10/20\n",
            "469/469 [==============================] - 2s 3ms/step - loss: 1.0896 - accuracy: 0.7434\n",
            "Epoch 11/20\n",
            "469/469 [==============================] - 2s 3ms/step - loss: 0.9899 - accuracy: 0.7653\n",
            "Epoch 12/20\n",
            "469/469 [==============================] - 2s 3ms/step - loss: 0.9081 - accuracy: 0.7838\n",
            "Epoch 13/20\n",
            "469/469 [==============================] - 2s 3ms/step - loss: 0.8401 - accuracy: 0.8000\n",
            "Epoch 14/20\n",
            "469/469 [==============================] - 2s 3ms/step - loss: 0.7830 - accuracy: 0.8118\n",
            "Epoch 15/20\n",
            "469/469 [==============================] - 2s 3ms/step - loss: 0.7343 - accuracy: 0.8225\n",
            "Epoch 16/20\n",
            "469/469 [==============================] - 2s 3ms/step - loss: 0.6927 - accuracy: 0.8312\n",
            "Epoch 17/20\n",
            "469/469 [==============================] - 2s 3ms/step - loss: 0.6566 - accuracy: 0.8388\n",
            "Epoch 18/20\n",
            "469/469 [==============================] - 2s 3ms/step - loss: 0.6253 - accuracy: 0.8444\n",
            "Epoch 19/20\n",
            "469/469 [==============================] - 2s 3ms/step - loss: 0.5980 - accuracy: 0.8499\n",
            "Epoch 20/20\n",
            "469/469 [==============================] - 2s 3ms/step - loss: 0.5739 - accuracy: 0.8543\n"
          ]
        },
        {
          "output_type": "execute_result",
          "data": {
            "text/plain": [
              "<keras.callbacks.History at 0x7f41f193c1d0>"
            ]
          },
          "metadata": {},
          "execution_count": 6
        }
      ]
    },
    {
      "cell_type": "code",
      "source": [
        "score = model.evaluate(X_test, Y_test, verbose=0)\n",
        "print('Test score:', score[0])\n",
        "print('Test accuracy:', score[1])"
      ],
      "metadata": {
        "colab": {
          "base_uri": "https://localhost:8080/"
        },
        "id": "hmMwbcciQg4W",
        "outputId": "28cc52fd-8b03-401b-96b6-0b65c1101490"
      },
      "execution_count": 7,
      "outputs": [
        {
          "output_type": "stream",
          "name": "stdout",
          "text": [
            "Test score: 0.5503221750259399\n",
            "Test accuracy: 0.858299970626831\n"
          ]
        }
      ]
    },
    {
      "cell_type": "markdown",
      "source": [
        "## 3. Implement a three-layer ANN model with 128, 64, and 10 neurons in the layers. Use the ReLU activation function for each layer."
      ],
      "metadata": {
        "id": "ROPoZ8MSQwdC"
      }
    },
    {
      "cell_type": "code",
      "source": [
        "model = Sequential()\n",
        "# our first dense layer is 128\n",
        "model.add(Dense(128, input_shape=(784,), activation=\"relu\"))\n",
        "# our second dense layer is 64\n",
        "model.add(Dense(64, activation=\"relu\"))\n",
        "# last layer, output layer, is 10\n",
        "model.add(Dense(10, activation=\"softmax\"))\n",
        "\n",
        "# using categorical crossentropy as the loss\n",
        "model.compile(optimizer='sgd', loss='categorical_crossentropy',\n",
        "              metrics=['accuracy'])\n",
        "\n",
        "# setting verbose=1 prints out some results after each epoch\n",
        "model.fit(X_train, Y_train, batch_size=batch_size, epochs=20, verbose=1)"
      ],
      "metadata": {
        "colab": {
          "base_uri": "https://localhost:8080/"
        },
        "id": "F-TpTKDIQrog",
        "outputId": "4a4da436-6b65-4ca2-c31c-cf84b1453ae5"
      },
      "execution_count": 8,
      "outputs": [
        {
          "output_type": "stream",
          "name": "stdout",
          "text": [
            "Epoch 1/20\n",
            "469/469 [==============================] - 2s 3ms/step - loss: 1.2335 - accuracy: 0.6851\n",
            "Epoch 2/20\n",
            "469/469 [==============================] - 2s 3ms/step - loss: 0.5055 - accuracy: 0.8682\n",
            "Epoch 3/20\n",
            "469/469 [==============================] - 1s 3ms/step - loss: 0.3874 - accuracy: 0.8935\n",
            "Epoch 4/20\n",
            "469/469 [==============================] - 2s 3ms/step - loss: 0.3396 - accuracy: 0.9042\n",
            "Epoch 5/20\n",
            "469/469 [==============================] - 2s 3ms/step - loss: 0.3110 - accuracy: 0.9116\n",
            "Epoch 6/20\n",
            "469/469 [==============================] - 2s 3ms/step - loss: 0.2904 - accuracy: 0.9174\n",
            "Epoch 7/20\n",
            "469/469 [==============================] - 2s 3ms/step - loss: 0.2737 - accuracy: 0.9218\n",
            "Epoch 8/20\n",
            "469/469 [==============================] - 2s 3ms/step - loss: 0.2600 - accuracy: 0.9261\n",
            "Epoch 9/20\n",
            "469/469 [==============================] - 2s 3ms/step - loss: 0.2481 - accuracy: 0.9303\n",
            "Epoch 10/20\n",
            "469/469 [==============================] - 2s 3ms/step - loss: 0.2373 - accuracy: 0.9328\n",
            "Epoch 11/20\n",
            "469/469 [==============================] - 2s 3ms/step - loss: 0.2277 - accuracy: 0.9358\n",
            "Epoch 12/20\n",
            "469/469 [==============================] - 2s 3ms/step - loss: 0.2187 - accuracy: 0.9383\n",
            "Epoch 13/20\n",
            "469/469 [==============================] - 2s 3ms/step - loss: 0.2107 - accuracy: 0.9407\n",
            "Epoch 14/20\n",
            "469/469 [==============================] - 2s 3ms/step - loss: 0.2031 - accuracy: 0.9431\n",
            "Epoch 15/20\n",
            "469/469 [==============================] - 2s 3ms/step - loss: 0.1961 - accuracy: 0.9443\n",
            "Epoch 16/20\n",
            "469/469 [==============================] - 2s 3ms/step - loss: 0.1899 - accuracy: 0.9463\n",
            "Epoch 17/20\n",
            "469/469 [==============================] - 2s 3ms/step - loss: 0.1835 - accuracy: 0.9485\n",
            "Epoch 18/20\n",
            "469/469 [==============================] - 2s 3ms/step - loss: 0.1776 - accuracy: 0.9500\n",
            "Epoch 19/20\n",
            "469/469 [==============================] - 2s 3ms/step - loss: 0.1722 - accuracy: 0.9515\n",
            "Epoch 20/20\n",
            "469/469 [==============================] - 2s 3ms/step - loss: 0.1669 - accuracy: 0.9528\n"
          ]
        },
        {
          "output_type": "execute_result",
          "data": {
            "text/plain": [
              "<keras.callbacks.History at 0x7f41f1767550>"
            ]
          },
          "metadata": {},
          "execution_count": 8
        }
      ]
    },
    {
      "cell_type": "code",
      "source": [
        "score = model.evaluate(X_test, Y_test, verbose=0)\n",
        "print('Test score:', score[0])\n",
        "print('Test accuracy:', score[1])"
      ],
      "metadata": {
        "colab": {
          "base_uri": "https://localhost:8080/"
        },
        "id": "R4mu7naXQ5x4",
        "outputId": "15a18dda-9124-4dd2-dd37-b7c8b137e0c5"
      },
      "execution_count": 9,
      "outputs": [
        {
          "output_type": "stream",
          "name": "stdout",
          "text": [
            "Test score: 0.1686592996120453\n",
            "Test accuracy: 0.9503999948501587\n"
          ]
        }
      ]
    },
    {
      "cell_type": "markdown",
      "source": [
        "## 4. Compare the results of each model. Which activation function performed best?"
      ],
      "metadata": {
        "id": "OJ5wtOBXRSpO"
      }
    },
    {
      "cell_type": "markdown",
      "source": [
        "Loss = Cross Entropy\n",
        "- activation = 'tanh'\n",
        " - train accuracy 0.9414\n",
        " - train score 0.2066\n",
        " - test accuracy 0.9416\n",
        " - test score 0.2056\n",
        "- activation = 'sigmoid'\n",
        " - train accuracy 0.8543\n",
        " - train score 0.5739\n",
        " - test accuracy 0.8583\n",
        " - test score 0.5503\n",
        "- activation = 'relu'\n",
        " - train accuracy 0.9528\n",
        " - train score 0.1669\n",
        " - test accuracy 0.9504\n",
        " - test score 0.1687"
      ],
      "metadata": {
        "id": "d2BBW20BRYLr"
      }
    },
    {
      "cell_type": "markdown",
      "source": [
        "The relu activation method worked the best with the train and est scores being very similar so we know there is probably not any overfitting as well as having the highest accuracy and lowest loss score amongst the different activation methods tested"
      ],
      "metadata": {
        "id": "D7cJpBZDSrP1"
      }
    },
    {
      "cell_type": "markdown",
      "source": [
        "# Task 2. In this task, you'll implement the ANN models specified below. For each, use the hinge loss function as the loss function."
      ],
      "metadata": {
        "id": "rdBcVGlNTeP7"
      }
    },
    {
      "cell_type": "markdown",
      "source": [
        "## 1. Implement a three-layer ANN model with 128, 64, and 10 neurons in the layers. Use the tanh activation function for each layer."
      ],
      "metadata": {
        "id": "JxvRI-kxT3u8"
      }
    },
    {
      "cell_type": "code",
      "source": [
        "model = Sequential()\n",
        "# our first dense layer is 128\n",
        "model.add(Dense(128, input_shape=(784,), activation=\"tanh\"))\n",
        "# our second dense layer is 64\n",
        "model.add(Dense(64, activation=\"tanh\"))\n",
        "# last layer, output layer, is 10\n",
        "model.add(Dense(10, activation=\"softmax\"))\n",
        "\n",
        "# using categorical crossentropy as the loss\n",
        "model.compile(optimizer='sgd', loss='categorical_hinge',\n",
        "              metrics=['accuracy'])\n",
        "\n",
        "# setting verbose=1 prints out some results after each epoch\n",
        "model.fit(X_train, Y_train, batch_size=batch_size, epochs=20, verbose=1)"
      ],
      "metadata": {
        "colab": {
          "base_uri": "https://localhost:8080/"
        },
        "id": "X5vpAuYhT3A_",
        "outputId": "006b93c7-83fb-471e-9e22-8b8b87cb2fc2"
      },
      "execution_count": 10,
      "outputs": [
        {
          "output_type": "stream",
          "name": "stdout",
          "text": [
            "Epoch 1/20\n",
            "469/469 [==============================] - 2s 3ms/step - loss: 0.9884 - accuracy: 0.4326\n",
            "Epoch 2/20\n",
            "469/469 [==============================] - 2s 3ms/step - loss: 0.7781 - accuracy: 0.6790\n",
            "Epoch 3/20\n",
            "469/469 [==============================] - 2s 3ms/step - loss: 0.5852 - accuracy: 0.7930\n",
            "Epoch 4/20\n",
            "469/469 [==============================] - 2s 3ms/step - loss: 0.4632 - accuracy: 0.8480\n",
            "Epoch 5/20\n",
            "469/469 [==============================] - 2s 3ms/step - loss: 0.3885 - accuracy: 0.8668\n",
            "Epoch 6/20\n",
            "469/469 [==============================] - 2s 3ms/step - loss: 0.3423 - accuracy: 0.8776\n",
            "Epoch 7/20\n",
            "469/469 [==============================] - 2s 3ms/step - loss: 0.3114 - accuracy: 0.8836\n",
            "Epoch 8/20\n",
            "469/469 [==============================] - 2s 3ms/step - loss: 0.2891 - accuracy: 0.8897\n",
            "Epoch 9/20\n",
            "469/469 [==============================] - 2s 3ms/step - loss: 0.2722 - accuracy: 0.8944\n",
            "Epoch 10/20\n",
            "469/469 [==============================] - 2s 3ms/step - loss: 0.2588 - accuracy: 0.8981\n",
            "Epoch 11/20\n",
            "469/469 [==============================] - 2s 3ms/step - loss: 0.2476 - accuracy: 0.9018\n",
            "Epoch 12/20\n",
            "469/469 [==============================] - 2s 3ms/step - loss: 0.2383 - accuracy: 0.9047\n",
            "Epoch 13/20\n",
            "469/469 [==============================] - 2s 3ms/step - loss: 0.2302 - accuracy: 0.9066\n",
            "Epoch 14/20\n",
            "469/469 [==============================] - 2s 3ms/step - loss: 0.2232 - accuracy: 0.9085\n",
            "Epoch 15/20\n",
            "469/469 [==============================] - 2s 3ms/step - loss: 0.2170 - accuracy: 0.9104\n",
            "Epoch 16/20\n",
            "469/469 [==============================] - 2s 3ms/step - loss: 0.2114 - accuracy: 0.9122\n",
            "Epoch 17/20\n",
            "469/469 [==============================] - 2s 3ms/step - loss: 0.2064 - accuracy: 0.9144\n",
            "Epoch 18/20\n",
            "469/469 [==============================] - 2s 3ms/step - loss: 0.2018 - accuracy: 0.9158\n",
            "Epoch 19/20\n",
            "469/469 [==============================] - 2s 3ms/step - loss: 0.1976 - accuracy: 0.9172\n",
            "Epoch 20/20\n",
            "469/469 [==============================] - 2s 3ms/step - loss: 0.1936 - accuracy: 0.9185\n"
          ]
        },
        {
          "output_type": "execute_result",
          "data": {
            "text/plain": [
              "<keras.callbacks.History at 0x7f41f1639e50>"
            ]
          },
          "metadata": {},
          "execution_count": 10
        }
      ]
    },
    {
      "cell_type": "code",
      "source": [
        "score = model.evaluate(X_test, Y_test, verbose=0)\n",
        "print('Test score:', score[0])\n",
        "print('Test accuracy:', score[1])"
      ],
      "metadata": {
        "colab": {
          "base_uri": "https://localhost:8080/"
        },
        "id": "HJh7cX8YUUIP",
        "outputId": "74174ce1-a8a3-49fd-dc26-f4e1996cb02e"
      },
      "execution_count": 11,
      "outputs": [
        {
          "output_type": "stream",
          "name": "stdout",
          "text": [
            "Test score: 0.1859210580587387\n",
            "Test accuracy: 0.9225999712944031\n"
          ]
        }
      ]
    },
    {
      "cell_type": "markdown",
      "source": [
        "## 2. Implement a three-layer ANN model with 128, 64, and 10 neurons in the layers. Use the sigmoid activation function for each layer."
      ],
      "metadata": {
        "id": "DjGbO6RuUlI4"
      }
    },
    {
      "cell_type": "code",
      "source": [
        "model = Sequential()\n",
        "# our first dense layer is 128\n",
        "model.add(Dense(128, input_shape=(784,), activation=\"sigmoid\"))\n",
        "# our second dense layer is 64\n",
        "model.add(Dense(64, activation=\"sigmoid\"))\n",
        "# last layer, output layer, is 10\n",
        "model.add(Dense(10, activation=\"softmax\"))\n",
        "\n",
        "# using categorical crossentropy as the loss\n",
        "model.compile(optimizer='sgd', loss='categorical_hinge',\n",
        "              metrics=['accuracy'])\n",
        "\n",
        "# setting verbose=1 prints out some results after each epoch\n",
        "model.fit(X_train, Y_train, batch_size=batch_size, epochs=20, verbose=1)"
      ],
      "metadata": {
        "colab": {
          "base_uri": "https://localhost:8080/"
        },
        "id": "uHTd_lY8UiWw",
        "outputId": "d0f53cb2-2c6e-4b4d-f4f1-5d4bc7ab60c1"
      },
      "execution_count": 12,
      "outputs": [
        {
          "output_type": "stream",
          "name": "stdout",
          "text": [
            "Epoch 1/20\n",
            "469/469 [==============================] - 2s 3ms/step - loss: 1.0232 - accuracy: 0.0888\n",
            "Epoch 2/20\n",
            "469/469 [==============================] - 2s 3ms/step - loss: 1.0096 - accuracy: 0.1286\n",
            "Epoch 3/20\n",
            "469/469 [==============================] - 2s 3ms/step - loss: 1.0034 - accuracy: 0.1825\n",
            "Epoch 4/20\n",
            "469/469 [==============================] - 2s 3ms/step - loss: 1.0022 - accuracy: 0.2456\n",
            "Epoch 5/20\n",
            "469/469 [==============================] - 2s 3ms/step - loss: 1.0017 - accuracy: 0.3007\n",
            "Epoch 6/20\n",
            "469/469 [==============================] - 2s 3ms/step - loss: 1.0012 - accuracy: 0.3508\n",
            "Epoch 7/20\n",
            "469/469 [==============================] - 2s 3ms/step - loss: 1.0008 - accuracy: 0.3958\n",
            "Epoch 8/20\n",
            "469/469 [==============================] - 2s 3ms/step - loss: 1.0004 - accuracy: 0.4368\n",
            "Epoch 9/20\n",
            "469/469 [==============================] - 2s 3ms/step - loss: 1.0001 - accuracy: 0.4702\n",
            "Epoch 10/20\n",
            "469/469 [==============================] - 2s 3ms/step - loss: 0.9997 - accuracy: 0.5019\n",
            "Epoch 11/20\n",
            "469/469 [==============================] - 2s 3ms/step - loss: 0.9994 - accuracy: 0.5295\n",
            "Epoch 12/20\n",
            "469/469 [==============================] - 2s 3ms/step - loss: 0.9991 - accuracy: 0.5540\n",
            "Epoch 13/20\n",
            "469/469 [==============================] - 2s 3ms/step - loss: 0.9989 - accuracy: 0.5756\n",
            "Epoch 14/20\n",
            "469/469 [==============================] - 2s 3ms/step - loss: 0.9986 - accuracy: 0.5954\n",
            "Epoch 15/20\n",
            "469/469 [==============================] - 2s 3ms/step - loss: 0.9983 - accuracy: 0.6126\n",
            "Epoch 16/20\n",
            "469/469 [==============================] - 2s 3ms/step - loss: 0.9981 - accuracy: 0.6282\n",
            "Epoch 17/20\n",
            "469/469 [==============================] - 2s 3ms/step - loss: 0.9978 - accuracy: 0.6416\n",
            "Epoch 18/20\n",
            "469/469 [==============================] - 2s 3ms/step - loss: 0.9976 - accuracy: 0.6534\n",
            "Epoch 19/20\n",
            "469/469 [==============================] - 1s 3ms/step - loss: 0.9973 - accuracy: 0.6636\n",
            "Epoch 20/20\n",
            "469/469 [==============================] - 2s 3ms/step - loss: 0.9971 - accuracy: 0.6731\n"
          ]
        },
        {
          "output_type": "execute_result",
          "data": {
            "text/plain": [
              "<keras.callbacks.History at 0x7f41f151b990>"
            ]
          },
          "metadata": {},
          "execution_count": 12
        }
      ]
    },
    {
      "cell_type": "code",
      "source": [
        "score = model.evaluate(X_test, Y_test, verbose=0)\n",
        "print('Test score:', score[0])\n",
        "print('Test accuracy:', score[1])"
      ],
      "metadata": {
        "colab": {
          "base_uri": "https://localhost:8080/"
        },
        "id": "MeWEeMprU_Ss",
        "outputId": "520a721d-2608-498b-9af0-eded739163c3"
      },
      "execution_count": 13,
      "outputs": [
        {
          "output_type": "stream",
          "name": "stdout",
          "text": [
            "Test score: 0.9968549609184265\n",
            "Test accuracy: 0.6859999895095825\n"
          ]
        }
      ]
    },
    {
      "cell_type": "markdown",
      "source": [
        "## 3. Implement a three-layer ANN model with 128, 64, and 10 neurons in the layers. Use the ReLU activation function for each layer."
      ],
      "metadata": {
        "id": "ZjYECFYJVahm"
      }
    },
    {
      "cell_type": "code",
      "source": [
        "model = Sequential()\n",
        "# our first dense layer is 128\n",
        "model.add(Dense(128, input_shape=(784,), activation=\"relu\"))\n",
        "# our second dense layer is 64\n",
        "model.add(Dense(64, activation=\"relu\"))\n",
        "# last layer, output layer, is 10\n",
        "model.add(Dense(10, activation=\"softmax\"))\n",
        "\n",
        "# using categorical crossentropy as the loss\n",
        "model.compile(optimizer='sgd', loss='categorical_hinge',\n",
        "              metrics=['accuracy'])\n",
        "\n",
        "# setting verbose=1 prints out some results after each epoch\n",
        "model.fit(X_train, Y_train, batch_size=batch_size, epochs=20, verbose=1)"
      ],
      "metadata": {
        "colab": {
          "base_uri": "https://localhost:8080/"
        },
        "id": "50SOznaHVEW0",
        "outputId": "fafe1d22-c186-42e1-f27b-466c53136014"
      },
      "execution_count": 14,
      "outputs": [
        {
          "output_type": "stream",
          "name": "stdout",
          "text": [
            "Epoch 1/20\n",
            "469/469 [==============================] - 2s 3ms/step - loss: 1.0108 - accuracy: 0.3401\n",
            "Epoch 2/20\n",
            "469/469 [==============================] - 2s 3ms/step - loss: 0.9743 - accuracy: 0.5845\n",
            "Epoch 3/20\n",
            "469/469 [==============================] - 2s 3ms/step - loss: 0.8575 - accuracy: 0.6564\n",
            "Epoch 4/20\n",
            "469/469 [==============================] - 2s 3ms/step - loss: 0.6502 - accuracy: 0.7725\n",
            "Epoch 5/20\n",
            "469/469 [==============================] - 2s 3ms/step - loss: 0.4666 - accuracy: 0.8494\n",
            "Epoch 6/20\n",
            "469/469 [==============================] - 2s 3ms/step - loss: 0.3591 - accuracy: 0.8730\n",
            "Epoch 7/20\n",
            "469/469 [==============================] - 2s 3ms/step - loss: 0.3047 - accuracy: 0.8846\n",
            "Epoch 8/20\n",
            "469/469 [==============================] - 2s 3ms/step - loss: 0.2725 - accuracy: 0.8925\n",
            "Epoch 9/20\n",
            "469/469 [==============================] - 1s 3ms/step - loss: 0.2507 - accuracy: 0.8979\n",
            "Epoch 10/20\n",
            "469/469 [==============================] - 1s 3ms/step - loss: 0.2346 - accuracy: 0.9032\n",
            "Epoch 11/20\n",
            "469/469 [==============================] - 2s 3ms/step - loss: 0.2223 - accuracy: 0.9071\n",
            "Epoch 12/20\n",
            "469/469 [==============================] - 2s 3ms/step - loss: 0.2121 - accuracy: 0.9106\n",
            "Epoch 13/20\n",
            "469/469 [==============================] - 2s 3ms/step - loss: 0.2036 - accuracy: 0.9132\n",
            "Epoch 14/20\n",
            "469/469 [==============================] - 2s 3ms/step - loss: 0.1964 - accuracy: 0.9162\n",
            "Epoch 15/20\n",
            "469/469 [==============================] - 2s 3ms/step - loss: 0.1900 - accuracy: 0.9184\n",
            "Epoch 16/20\n",
            "469/469 [==============================] - 2s 3ms/step - loss: 0.1845 - accuracy: 0.9205\n",
            "Epoch 17/20\n",
            "469/469 [==============================] - 2s 3ms/step - loss: 0.1793 - accuracy: 0.9224\n",
            "Epoch 18/20\n",
            "469/469 [==============================] - 1s 3ms/step - loss: 0.1747 - accuracy: 0.9242\n",
            "Epoch 19/20\n",
            "469/469 [==============================] - 2s 3ms/step - loss: 0.1704 - accuracy: 0.9262\n",
            "Epoch 20/20\n",
            "469/469 [==============================] - 2s 3ms/step - loss: 0.1665 - accuracy: 0.9276\n"
          ]
        },
        {
          "output_type": "execute_result",
          "data": {
            "text/plain": [
              "<keras.callbacks.History at 0x7f41f137c250>"
            ]
          },
          "metadata": {},
          "execution_count": 14
        }
      ]
    },
    {
      "cell_type": "code",
      "source": [
        "score = model.evaluate(X_test, Y_test, verbose=0)\n",
        "print('Test score:', score[0])\n",
        "print('Test accuracy:', score[1])"
      ],
      "metadata": {
        "colab": {
          "base_uri": "https://localhost:8080/"
        },
        "id": "4iZHmkwAVnDd",
        "outputId": "89c0e470-4a89-49f1-bf62-0985d4e40df5"
      },
      "execution_count": 15,
      "outputs": [
        {
          "output_type": "stream",
          "name": "stdout",
          "text": [
            "Test score: 0.15910187363624573\n",
            "Test accuracy: 0.9319000244140625\n"
          ]
        }
      ]
    },
    {
      "cell_type": "markdown",
      "source": [
        "## 4. Compare the results of each model with the result of the same model from the previous task. Which loss function performed best?"
      ],
      "metadata": {
        "id": "HDJVE6dqVzy0"
      }
    },
    {
      "cell_type": "markdown",
      "source": [
        "Loss = Cross Entropy, Hinge\n",
        "- activation = 'tanh'\n",
        " - train accuracy 0.9414, 0.9185\n",
        " - train score 0.2066, 0.1936\n",
        " - test accuracy 0.9416, 0.9226\n",
        " - test score 0.2056, 0.1856\n",
        "- activation = 'sigmoid'\n",
        " - train accuracy 0.8543, 0.6731\n",
        " - train score 0.5739, 0.9971\n",
        " - test accuracy 0.8583, 0.6856\n",
        " - test score 0.5503, 0.9976\n",
        "- activation = 'relu'\n",
        " - train accuracy 0.9528, 0.9276\n",
        " - train score 0.1669, 0.1665\n",
        " - test accuracy 0.9504, 0.9319\n",
        " - test score 0.1687, 0.1591"
      ],
      "metadata": {
        "id": "9OLBdT9ZV7zU"
      }
    },
    {
      "cell_type": "markdown",
      "source": [
        "The relu activation method worked the best in this series of models, but all of the different activation methods worked better using cross entrpy as the loss function vs hinge."
      ],
      "metadata": {
        "id": "wJQPvRNQXgxa"
      }
    }
  ]
}