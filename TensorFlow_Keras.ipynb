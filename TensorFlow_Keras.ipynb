{
  "nbformat": 4,
  "nbformat_minor": 0,
  "metadata": {
    "colab": {
      "name": "TensorFlow_Keras.ipynb",
      "provenance": []
    },
    "kernelspec": {
      "name": "python3",
      "display_name": "Python 3"
    },
    "language_info": {
      "name": "python"
    }
  },
  "cells": [
    {
      "cell_type": "markdown",
      "source": [
        "# TensorFlow and Keras Lesson"
      ],
      "metadata": {
        "id": "1DWTMox4-y9B"
      }
    },
    {
      "cell_type": "code",
      "execution_count": 2,
      "metadata": {
        "colab": {
          "base_uri": "https://localhost:8080/"
        },
        "id": "b6ltnXPJQhQ1",
        "outputId": "e345942c-d571-4497-b79f-1d527a9e6e4e"
      },
      "outputs": [
        {
          "output_type": "stream",
          "name": "stdout",
          "text": [
            "Looking in indexes: https://pypi.org/simple, https://us-python.pkg.dev/colab-wheels/public/simple/\n",
            "Requirement already satisfied: tensorflow-gpu==2.0.0 in /usr/local/lib/python3.7/dist-packages (2.0.0)\n",
            "Requirement already satisfied: termcolor>=1.1.0 in /usr/local/lib/python3.7/dist-packages (from tensorflow-gpu==2.0.0) (1.1.0)\n",
            "Requirement already satisfied: numpy<2.0,>=1.16.0 in /usr/local/lib/python3.7/dist-packages (from tensorflow-gpu==2.0.0) (1.21.6)\n",
            "Requirement already satisfied: keras-applications>=1.0.8 in /usr/local/lib/python3.7/dist-packages (from tensorflow-gpu==2.0.0) (1.0.8)\n",
            "Requirement already satisfied: wheel>=0.26 in /usr/local/lib/python3.7/dist-packages (from tensorflow-gpu==2.0.0) (0.37.1)\n",
            "Requirement already satisfied: astor>=0.6.0 in /usr/local/lib/python3.7/dist-packages (from tensorflow-gpu==2.0.0) (0.8.1)\n",
            "Requirement already satisfied: wrapt>=1.11.1 in /usr/local/lib/python3.7/dist-packages (from tensorflow-gpu==2.0.0) (1.14.1)\n",
            "Requirement already satisfied: protobuf>=3.6.1 in /usr/local/lib/python3.7/dist-packages (from tensorflow-gpu==2.0.0) (3.17.3)\n",
            "Requirement already satisfied: six>=1.10.0 in /usr/local/lib/python3.7/dist-packages (from tensorflow-gpu==2.0.0) (1.15.0)\n",
            "Requirement already satisfied: google-pasta>=0.1.6 in /usr/local/lib/python3.7/dist-packages (from tensorflow-gpu==2.0.0) (0.2.0)\n",
            "Requirement already satisfied: tensorboard<2.1.0,>=2.0.0 in /usr/local/lib/python3.7/dist-packages (from tensorflow-gpu==2.0.0) (2.0.2)\n",
            "Requirement already satisfied: grpcio>=1.8.6 in /usr/local/lib/python3.7/dist-packages (from tensorflow-gpu==2.0.0) (1.47.0)\n",
            "Requirement already satisfied: gast==0.2.2 in /usr/local/lib/python3.7/dist-packages (from tensorflow-gpu==2.0.0) (0.2.2)\n",
            "Requirement already satisfied: opt-einsum>=2.3.2 in /usr/local/lib/python3.7/dist-packages (from tensorflow-gpu==2.0.0) (3.3.0)\n",
            "Requirement already satisfied: tensorflow-estimator<2.1.0,>=2.0.0 in /usr/local/lib/python3.7/dist-packages (from tensorflow-gpu==2.0.0) (2.0.1)\n",
            "Requirement already satisfied: absl-py>=0.7.0 in /usr/local/lib/python3.7/dist-packages (from tensorflow-gpu==2.0.0) (1.2.0)\n",
            "Requirement already satisfied: keras-preprocessing>=1.0.5 in /usr/local/lib/python3.7/dist-packages (from tensorflow-gpu==2.0.0) (1.1.2)\n",
            "Requirement already satisfied: h5py in /usr/local/lib/python3.7/dist-packages (from keras-applications>=1.0.8->tensorflow-gpu==2.0.0) (3.1.0)\n",
            "Requirement already satisfied: setuptools>=41.0.0 in /usr/local/lib/python3.7/dist-packages (from tensorboard<2.1.0,>=2.0.0->tensorflow-gpu==2.0.0) (57.4.0)\n",
            "Requirement already satisfied: markdown>=2.6.8 in /usr/local/lib/python3.7/dist-packages (from tensorboard<2.1.0,>=2.0.0->tensorflow-gpu==2.0.0) (3.4.1)\n",
            "Requirement already satisfied: requests<3,>=2.21.0 in /usr/local/lib/python3.7/dist-packages (from tensorboard<2.1.0,>=2.0.0->tensorflow-gpu==2.0.0) (2.23.0)\n",
            "Requirement already satisfied: google-auth-oauthlib<0.5,>=0.4.1 in /usr/local/lib/python3.7/dist-packages (from tensorboard<2.1.0,>=2.0.0->tensorflow-gpu==2.0.0) (0.4.6)\n",
            "Requirement already satisfied: google-auth<2,>=1.6.3 in /usr/local/lib/python3.7/dist-packages (from tensorboard<2.1.0,>=2.0.0->tensorflow-gpu==2.0.0) (1.35.0)\n",
            "Requirement already satisfied: werkzeug>=0.11.15 in /usr/local/lib/python3.7/dist-packages (from tensorboard<2.1.0,>=2.0.0->tensorflow-gpu==2.0.0) (1.0.1)\n",
            "Requirement already satisfied: pyasn1-modules>=0.2.1 in /usr/local/lib/python3.7/dist-packages (from google-auth<2,>=1.6.3->tensorboard<2.1.0,>=2.0.0->tensorflow-gpu==2.0.0) (0.2.8)\n",
            "Requirement already satisfied: rsa<5,>=3.1.4 in /usr/local/lib/python3.7/dist-packages (from google-auth<2,>=1.6.3->tensorboard<2.1.0,>=2.0.0->tensorflow-gpu==2.0.0) (4.9)\n",
            "Requirement already satisfied: cachetools<5.0,>=2.0.0 in /usr/local/lib/python3.7/dist-packages (from google-auth<2,>=1.6.3->tensorboard<2.1.0,>=2.0.0->tensorflow-gpu==2.0.0) (4.2.4)\n",
            "Requirement already satisfied: requests-oauthlib>=0.7.0 in /usr/local/lib/python3.7/dist-packages (from google-auth-oauthlib<0.5,>=0.4.1->tensorboard<2.1.0,>=2.0.0->tensorflow-gpu==2.0.0) (1.3.1)\n",
            "Requirement already satisfied: importlib-metadata>=4.4 in /usr/local/lib/python3.7/dist-packages (from markdown>=2.6.8->tensorboard<2.1.0,>=2.0.0->tensorflow-gpu==2.0.0) (4.12.0)\n",
            "Requirement already satisfied: zipp>=0.5 in /usr/local/lib/python3.7/dist-packages (from importlib-metadata>=4.4->markdown>=2.6.8->tensorboard<2.1.0,>=2.0.0->tensorflow-gpu==2.0.0) (3.8.1)\n",
            "Requirement already satisfied: typing-extensions>=3.6.4 in /usr/local/lib/python3.7/dist-packages (from importlib-metadata>=4.4->markdown>=2.6.8->tensorboard<2.1.0,>=2.0.0->tensorflow-gpu==2.0.0) (4.1.1)\n",
            "Requirement already satisfied: pyasn1<0.5.0,>=0.4.6 in /usr/local/lib/python3.7/dist-packages (from pyasn1-modules>=0.2.1->google-auth<2,>=1.6.3->tensorboard<2.1.0,>=2.0.0->tensorflow-gpu==2.0.0) (0.4.8)\n",
            "Requirement already satisfied: chardet<4,>=3.0.2 in /usr/local/lib/python3.7/dist-packages (from requests<3,>=2.21.0->tensorboard<2.1.0,>=2.0.0->tensorflow-gpu==2.0.0) (3.0.4)\n",
            "Requirement already satisfied: urllib3!=1.25.0,!=1.25.1,<1.26,>=1.21.1 in /usr/local/lib/python3.7/dist-packages (from requests<3,>=2.21.0->tensorboard<2.1.0,>=2.0.0->tensorflow-gpu==2.0.0) (1.24.3)\n",
            "Requirement already satisfied: idna<3,>=2.5 in /usr/local/lib/python3.7/dist-packages (from requests<3,>=2.21.0->tensorboard<2.1.0,>=2.0.0->tensorflow-gpu==2.0.0) (2.10)\n",
            "Requirement already satisfied: certifi>=2017.4.17 in /usr/local/lib/python3.7/dist-packages (from requests<3,>=2.21.0->tensorboard<2.1.0,>=2.0.0->tensorflow-gpu==2.0.0) (2022.6.15)\n",
            "Requirement already satisfied: oauthlib>=3.0.0 in /usr/local/lib/python3.7/dist-packages (from requests-oauthlib>=0.7.0->google-auth-oauthlib<0.5,>=0.4.1->tensorboard<2.1.0,>=2.0.0->tensorflow-gpu==2.0.0) (3.2.0)\n",
            "Requirement already satisfied: cached-property in /usr/local/lib/python3.7/dist-packages (from h5py->keras-applications>=1.0.8->tensorflow-gpu==2.0.0) (1.5.2)\n"
          ]
        }
      ],
      "source": [
        "# CPU TensorFlow\n",
        "# !pip install tensorflow==2.0.0-rc1\n",
        "\n",
        "# GPU TensorFlow\n",
        "!pip install tensorflow-gpu==2.0.0\n",
        "\n",
        "import tensorflow as tf"
      ]
    },
    {
      "cell_type": "markdown",
      "source": [
        "build your ANN step by step, using the Sequential() class\n",
        "\n",
        "When implementing an ANN in Keras, you'll use the following steps:\n",
        "- Create a model object.\n",
        "- Add layers to the model one by one.\n",
        "\n",
        "After doing these steps, you'll end up with a deep-learning model structure. The next steps are as follows:\n",
        "- Define an optimizer and compile the model.\n",
        "- After compiling the model, train the model using training data.\n",
        "- Evaluate the performance of the model on a test set."
      ],
      "metadata": {
        "id": "sFy_RWblYy2y"
      }
    },
    {
      "cell_type": "markdown",
      "source": [
        "1. Import Sequential Class from Keras\n",
        " - from tensorflow.keras.models import Sequential\n",
        "2. Create model object\n",
        " - model = Sequential()\n",
        "3. Compile the model\n",
        " - model.compile(optimizer, loss, metrics)\n",
        "4. Add layers to the model\n",
        " - model.add(Dense())\n",
        "5. Train the model\n",
        " - model.fit(X_train, Y_train)\n",
        "6. Evaluate the model\n",
        " - model.evaluate(X_test, Y_test)"
      ],
      "metadata": {
        "id": "YSdMXKMTZTJR"
      }
    },
    {
      "cell_type": "code",
      "source": [
        "import warnings\n",
        "warnings.filterwarnings(\"ignore\")\n",
        "\n",
        "from tensorflow.keras.datasets import mnist"
      ],
      "metadata": {
        "id": "sVJyhikNX0s0"
      },
      "execution_count": 3,
      "outputs": []
    },
    {
      "cell_type": "markdown",
      "source": [
        "Load the data and do preprocessing"
      ],
      "metadata": {
        "id": "fHAJu1I0alEy"
      }
    },
    {
      "cell_type": "code",
      "source": [
        "(X_train, y_train), (X_test, y_test) = mnist.load_data()\n",
        "\n",
        "input_dim = 784  # 28*28\n",
        "output_dim = nb_classes = 10\n",
        "batch_size = 128\n",
        "nb_epoch = 20\n",
        "\n",
        "X_train = X_train.reshape(60000, input_dim)\n",
        "X_test = X_test.reshape(10000, input_dim)\n",
        "X_train = X_train.astype('float32')\n",
        "X_test = X_test.astype('float32')\n",
        "X_train /= 255\n",
        "X_test /= 255"
      ],
      "metadata": {
        "colab": {
          "base_uri": "https://localhost:8080/"
        },
        "id": "8PEMiMgcad8h",
        "outputId": "bb738881-6f2d-4000-bdda-ee349be2b402"
      },
      "execution_count": 4,
      "outputs": [
        {
          "output_type": "stream",
          "name": "stdout",
          "text": [
            "Downloading data from https://storage.googleapis.com/tensorflow/tf-keras-datasets/mnist.npz\n",
            "11493376/11490434 [==============================] - 0s 0us/step\n"
          ]
        }
      ]
    },
    {
      "cell_type": "markdown",
      "source": [
        "Next, one-hot code your target variable using the to_categorical() function from the keras.utils module:"
      ],
      "metadata": {
        "id": "Xtm-sHKTayTj"
      }
    },
    {
      "cell_type": "code",
      "source": [
        "from tensorflow.keras.utils import to_categorical\n",
        "\n",
        "Y_train = to_categorical(y_train, nb_classes)\n",
        "Y_test = to_categorical(y_test, nb_classes)"
      ],
      "metadata": {
        "id": "SsUjKL-KanMb"
      },
      "execution_count": 5,
      "outputs": []
    },
    {
      "cell_type": "markdown",
      "source": [
        "Check the size"
      ],
      "metadata": {
        "id": "nEBG8gYrbSuL"
      }
    },
    {
      "cell_type": "code",
      "source": [
        "X_train[0].shape"
      ],
      "metadata": {
        "colab": {
          "base_uri": "https://localhost:8080/"
        },
        "id": "rOIOepQJa4Tb",
        "outputId": "36b3b5da-e815-40bc-a123-c9225a5e9dcf"
      },
      "execution_count": 6,
      "outputs": [
        {
          "output_type": "execute_result",
          "data": {
            "text/plain": [
              "(784,)"
            ]
          },
          "metadata": {},
          "execution_count": 6
        }
      ]
    },
    {
      "cell_type": "markdown",
      "source": [
        "Plot some images"
      ],
      "metadata": {
        "id": "yTZo6IuYbZY3"
      }
    },
    {
      "cell_type": "code",
      "source": [
        "import matplotlib.pyplot as plt\n",
        "\n",
        "plt.figure(figsize=(20,5))\n",
        "\n",
        "plt.subplot(141)\n",
        "plt.imshow(X_train[123].reshape(28,28), cmap=\"gray\")\n",
        "plt.title(\"Label of the image: {}\".format(y_train[123]))\n",
        "\n",
        "plt.subplot(142)\n",
        "plt.imshow(X_train[124].reshape(28,28), cmap=\"gray\")\n",
        "plt.title(\"Label of the image: {}\".format(y_train[124]))\n",
        "\n",
        "plt.subplot(143)\n",
        "plt.imshow(X_train[125].reshape(28,28), cmap=\"gray\")\n",
        "plt.title(\"Label of the image: {}\".format(y_train[125]))\n",
        "\n",
        "plt.subplot(144)\n",
        "plt.imshow(X_train[126].reshape(28,28), cmap=\"gray\")\n",
        "plt.title(\"Label of the image: {}\".format(y_train[126]))\n",
        "\n",
        "plt.show()"
      ],
      "metadata": {
        "colab": {
          "base_uri": "https://localhost:8080/",
          "height": 280
        },
        "id": "aB_pQnbWbU2K",
        "outputId": "f1f0f88c-7243-4aaa-e43f-4dff99bcd171"
      },
      "execution_count": 7,
      "outputs": [
        {
          "output_type": "display_data",
          "data": {
            "text/plain": [
              "<Figure size 1440x360 with 4 Axes>"
            ],
            "image/png": "[encoded data removed]"
          },
          "metadata": {
            "needs_background": "light"
          }
        }
      ]
    },
    {
      "cell_type": "markdown",
      "source": [
        "Defining the model - Sequential"
      ],
      "metadata": {
        "id": "wYnTLA_JbwsT"
      }
    },
    {
      "cell_type": "code",
      "source": [
        "from tensorflow.keras.models import Sequential \n",
        "from tensorflow.keras.layers import Dense\n",
        "\n",
        "model = Sequential()\n",
        "# The first dense layer\n",
        "model.add(Dense(1028, input_shape=(784,), activation=\"relu\"))\n",
        "# The second dense layer\n",
        "model.add(Dense(1028, activation=\"relu\"))\n",
        "# The last layer is the output layer\n",
        "model.add(Dense(10, activation=\"softmax\"))"
      ],
      "metadata": {
        "id": "kQTdBe2Rbbw2"
      },
      "execution_count": 8,
      "outputs": []
    },
    {
      "cell_type": "code",
      "source": [
        "model.summary()"
      ],
      "metadata": {
        "colab": {
          "base_uri": "https://localhost:8080/"
        },
        "id": "lzx0RfqRb3Nf",
        "outputId": "f42bf834-157a-4941-9588-2243c6f9307c"
      },
      "execution_count": 9,
      "outputs": [
        {
          "output_type": "stream",
          "name": "stdout",
          "text": [
            "Model: \"sequential\"\n",
            "_________________________________________________________________\n",
            "Layer (type)                 Output Shape              Param #   \n",
            "=================================================================\n",
            "dense (Dense)                (None, 1028)              806980    \n",
            "_________________________________________________________________\n",
            "dense_1 (Dense)              (None, 1028)              1057812   \n",
            "_________________________________________________________________\n",
            "dense_2 (Dense)              (None, 10)                10290     \n",
            "=================================================================\n",
            "Total params: 1,875,082\n",
            "Trainable params: 1,875,082\n",
            "Non-trainable params: 0\n",
            "_________________________________________________________________\n"
          ]
        }
      ]
    },
    {
      "cell_type": "markdown",
      "source": [
        "Compiling the model\n",
        "1. The optimizer that will be used in the training: If you don't know about optimizers in deep learning, don't worry. You just need to use one in this lesson, and you'll learn about optimizers later in this module.\n",
        "2. The loss function: It's necessary to specify a loss function for a model. Training algorithms use this loss function and try to minimize it during the training. This will also be covered in the next lesson.\n",
        "3. The metric to measure the training performance of your model: In this example, you use the accuracy metric, because your task is a classification task and your dataset is a balanced one."
      ],
      "metadata": {
        "id": "sFdjiRthcHGc"
      }
    },
    {
      "cell_type": "code",
      "source": [
        "model.compile(optimizer='sgd', loss='categorical_crossentropy',\n",
        "              metrics=['accuracy'])"
      ],
      "metadata": {
        "id": "usuIVNb1cAYA"
      },
      "execution_count": 10,
      "outputs": []
    },
    {
      "cell_type": "markdown",
      "source": [
        "Training the model\n",
        "- Use 128 as the batch size. Batch size is something that you'll explore in a later lesson.\n",
        "- Use 20 as the number of epochs. In deep-learning jargon, epoch means full use of all of the examples in the training data during the training of the model."
      ],
      "metadata": {
        "id": "2Dmv_5q4cTI_"
      }
    },
    {
      "cell_type": "code",
      "source": [
        "# Setting `verbose=1` prints out some results after each epoch\n",
        "model.fit(X_train, Y_train, batch_size=batch_size, epochs=20, verbose=1)"
      ],
      "metadata": {
        "colab": {
          "base_uri": "https://localhost:8080/"
        },
        "id": "ZE9hctURcRFW",
        "outputId": "f61c4029-3874-4ad0-ddbf-97c496d949d8"
      },
      "execution_count": 11,
      "outputs": [
        {
          "output_type": "stream",
          "name": "stdout",
          "text": [
            "Train on 60000 samples\n",
            "Epoch 1/20\n",
            "60000/60000 [==============================] - 25s 415us/sample - loss: 1.0429 - accuracy: 0.7816\n",
            "Epoch 2/20\n",
            "60000/60000 [==============================] - 19s 309us/sample - loss: 0.4243 - accuracy: 0.8923\n",
            "Epoch 3/20\n",
            "60000/60000 [==============================] - 18s 305us/sample - loss: 0.3409 - accuracy: 0.9061\n",
            "Epoch 4/20\n",
            "60000/60000 [==============================] - 18s 299us/sample - loss: 0.3028 - accuracy: 0.9157\n",
            "Epoch 5/20\n",
            "60000/60000 [==============================] - 18s 301us/sample - loss: 0.2777 - accuracy: 0.9225\n",
            "Epoch 6/20\n",
            "60000/60000 [==============================] - 19s 314us/sample - loss: 0.2586 - accuracy: 0.9275\n",
            "Epoch 7/20\n",
            "60000/60000 [==============================] - 18s 296us/sample - loss: 0.2431 - accuracy: 0.9323\n",
            "Epoch 8/20\n",
            "60000/60000 [==============================] - 18s 295us/sample - loss: 0.2297 - accuracy: 0.9354\n",
            "Epoch 9/20\n",
            "60000/60000 [==============================] - 18s 294us/sample - loss: 0.2181 - accuracy: 0.9384\n",
            "Epoch 10/20\n",
            "60000/60000 [==============================] - 18s 298us/sample - loss: 0.2078 - accuracy: 0.9413\n",
            "Epoch 11/20\n",
            "60000/60000 [==============================] - 18s 294us/sample - loss: 0.1984 - accuracy: 0.9445\n",
            "Epoch 12/20\n",
            "60000/60000 [==============================] - 18s 292us/sample - loss: 0.1896 - accuracy: 0.9471\n",
            "Epoch 13/20\n",
            "60000/60000 [==============================] - 17s 289us/sample - loss: 0.1816 - accuracy: 0.9490\n",
            "Epoch 14/20\n",
            "60000/60000 [==============================] - 18s 294us/sample - loss: 0.1743 - accuracy: 0.9507\n",
            "Epoch 15/20\n",
            "60000/60000 [==============================] - 18s 297us/sample - loss: 0.1675 - accuracy: 0.9529\n",
            "Epoch 16/20\n",
            "60000/60000 [==============================] - 18s 293us/sample - loss: 0.1614 - accuracy: 0.9549\n",
            "Epoch 17/20\n",
            "60000/60000 [==============================] - 18s 295us/sample - loss: 0.1554 - accuracy: 0.9568\n",
            "Epoch 18/20\n",
            "60000/60000 [==============================] - 18s 296us/sample - loss: 0.1499 - accuracy: 0.9577\n",
            "Epoch 19/20\n",
            "60000/60000 [==============================] - 18s 297us/sample - loss: 0.1445 - accuracy: 0.9599\n",
            "Epoch 20/20\n",
            "60000/60000 [==============================] - 17s 291us/sample - loss: 0.1397 - accuracy: 0.9607\n"
          ]
        },
        {
          "output_type": "execute_result",
          "data": {
            "text/plain": [
              "<tensorflow.python.keras.callbacks.History at 0x7fb83bb14450>"
            ]
          },
          "metadata": {},
          "execution_count": 11
        }
      ]
    },
    {
      "cell_type": "markdown",
      "source": [
        "Evaluate the model"
      ],
      "metadata": {
        "id": "t5Rn7hWacnIy"
      }
    },
    {
      "cell_type": "code",
      "source": [
        "score = model.evaluate(X_test, Y_test, verbose=0)\n",
        "print('Test score:', score[0])\n",
        "print('Test accuracy:', score[1])"
      ],
      "metadata": {
        "colab": {
          "base_uri": "https://localhost:8080/"
        },
        "id": "ikwxo_8qcfjp",
        "outputId": "c645961d-6817-4a75-d715-1609d0fdb084"
      },
      "execution_count": 14,
      "outputs": [
        {
          "output_type": "stream",
          "name": "stdout",
          "text": [
            "Test score: 0.14310873336195945\n",
            "Test accuracy: 0.9576\n"
          ]
        }
      ]
    },
    {
      "cell_type": "markdown",
      "source": [
        "# TensorFlow and Keras Assignment"
      ],
      "metadata": {
        "id": "W_5jb8_X-pj4"
      }
    },
    {
      "cell_type": "markdown",
      "source": [
        "1. In this task, you'll build an ANN and train and test it using the MNIST data. This ANN should consist of two hidden layers and one output layer. All of the hidden layers should be dense. The first layer and the second layer should have neuron sizes of 32 and 16, respectively. Train this model for 20 epochs, and compare your training and test set performance with the example in the lesson. Is there any difference? If so, why?"
      ],
      "metadata": {
        "id": "Sd1R6y2CAkSw"
      }
    },
    {
      "cell_type": "code",
      "source": [
        "(X_train, y_train), (X_test, y_test) = mnist.load_data()\n",
        "\n",
        "input_dim = 784  # 28*28\n",
        "output_dim = nb_classes = 10\n",
        "batch_size = 128\n",
        "nb_epoch = 20\n",
        "\n",
        "X_train = X_train.reshape(60000, input_dim)\n",
        "X_test = X_test.reshape(10000, input_dim)\n",
        "X_train = X_train.astype('float32')\n",
        "X_test = X_test.astype('float32')\n",
        "X_train /= 255\n",
        "X_test /= 255\n",
        "\n",
        "Y_train = to_categorical(y_train, nb_classes)\n",
        "Y_test = to_categorical(y_test, nb_classes)\n",
        "\n",
        "X_train[0].shape"
      ],
      "metadata": {
        "colab": {
          "base_uri": "https://localhost:8080/"
        },
        "id": "pM6SlvEh_kui",
        "outputId": "6e6d357f-05cb-4839-fb1e-b193420e3d38"
      },
      "execution_count": 18,
      "outputs": [
        {
          "output_type": "execute_result",
          "data": {
            "text/plain": [
              "(784,)"
            ]
          },
          "metadata": {},
          "execution_count": 18
        }
      ]
    },
    {
      "cell_type": "code",
      "source": [
        "model = Sequential()\n",
        "# our first dense layer is 32\n",
        "model.add(Dense(32, input_shape=(784,), activation=\"relu\"))\n",
        "# our second dense layer is 16\n",
        "model.add(Dense(16, activation=\"relu\"))\n",
        "# last layer, the output layer, is 10\n",
        "model.add(Dense(10, activation=\"softmax\"))"
      ],
      "metadata": {
        "id": "w8G8kvGScsbT"
      },
      "execution_count": 19,
      "outputs": []
    },
    {
      "cell_type": "code",
      "source": [
        "model.summary()"
      ],
      "metadata": {
        "colab": {
          "base_uri": "https://localhost:8080/"
        },
        "id": "JwjTj4BFAGb7",
        "outputId": "51faa173-c431-41c2-a2cb-41b8efce5240"
      },
      "execution_count": 20,
      "outputs": [
        {
          "output_type": "stream",
          "name": "stdout",
          "text": [
            "Model: \"sequential_3\"\n",
            "_________________________________________________________________\n",
            "Layer (type)                 Output Shape              Param #   \n",
            "=================================================================\n",
            "dense_9 (Dense)              (None, 32)                25120     \n",
            "_________________________________________________________________\n",
            "dense_10 (Dense)             (None, 16)                528       \n",
            "_________________________________________________________________\n",
            "dense_11 (Dense)             (None, 10)                170       \n",
            "=================================================================\n",
            "Total params: 25,818\n",
            "Trainable params: 25,818\n",
            "Non-trainable params: 0\n",
            "_________________________________________________________________\n"
          ]
        }
      ]
    },
    {
      "cell_type": "code",
      "source": [
        "model.compile(optimizer='sgd', loss='categorical_crossentropy',\n",
        "              metrics=['accuracy'])"
      ],
      "metadata": {
        "id": "TfRlLdMt_UlX"
      },
      "execution_count": 21,
      "outputs": []
    },
    {
      "cell_type": "code",
      "source": [
        "# Setting `verbose=1` prints out some results after each epoch\n",
        "model.fit(X_train, Y_train, batch_size=batch_size, epochs=20, verbose=1)"
      ],
      "metadata": {
        "colab": {
          "base_uri": "https://localhost:8080/"
        },
        "id": "GVx4DlLEAKS0",
        "outputId": "09cfcddc-a804-49e4-b967-929b41bfed68"
      },
      "execution_count": 22,
      "outputs": [
        {
          "output_type": "stream",
          "name": "stdout",
          "text": [
            "Train on 60000 samples\n",
            "Epoch 1/20\n",
            "60000/60000 [==============================] - 2s 33us/sample - loss: 1.4684 - accuracy: 0.5551\n",
            "Epoch 2/20\n",
            "60000/60000 [==============================] - 1s 24us/sample - loss: 0.5988 - accuracy: 0.8411\n",
            "Epoch 3/20\n",
            "60000/60000 [==============================] - 2s 28us/sample - loss: 0.4360 - accuracy: 0.8792\n",
            "Epoch 4/20\n",
            "60000/60000 [==============================] - 1s 25us/sample - loss: 0.3791 - accuracy: 0.8923\n",
            "Epoch 5/20\n",
            "60000/60000 [==============================] - 1s 23us/sample - loss: 0.3474 - accuracy: 0.9011\n",
            "Epoch 6/20\n",
            "60000/60000 [==============================] - 1s 24us/sample - loss: 0.3250 - accuracy: 0.9074\n",
            "Epoch 7/20\n",
            "60000/60000 [==============================] - 1s 22us/sample - loss: 0.3080 - accuracy: 0.9119\n",
            "Epoch 8/20\n",
            "60000/60000 [==============================] - 1s 21us/sample - loss: 0.2936 - accuracy: 0.9162\n",
            "Epoch 9/20\n",
            "60000/60000 [==============================] - 1s 21us/sample - loss: 0.2817 - accuracy: 0.9200\n",
            "Epoch 10/20\n",
            "60000/60000 [==============================] - 1s 21us/sample - loss: 0.2709 - accuracy: 0.9228\n",
            "Epoch 11/20\n",
            "60000/60000 [==============================] - 1s 21us/sample - loss: 0.2619 - accuracy: 0.9255\n",
            "Epoch 12/20\n",
            "60000/60000 [==============================] - 1s 21us/sample - loss: 0.2536 - accuracy: 0.9279\n",
            "Epoch 13/20\n",
            "60000/60000 [==============================] - 1s 23us/sample - loss: 0.2461 - accuracy: 0.9301\n",
            "Epoch 14/20\n",
            "60000/60000 [==============================] - 1s 23us/sample - loss: 0.2392 - accuracy: 0.9316\n",
            "Epoch 15/20\n",
            "60000/60000 [==============================] - 1s 24us/sample - loss: 0.2329 - accuracy: 0.9334\n",
            "Epoch 16/20\n",
            "60000/60000 [==============================] - 1s 23us/sample - loss: 0.2268 - accuracy: 0.9352\n",
            "Epoch 17/20\n",
            "60000/60000 [==============================] - 1s 23us/sample - loss: 0.2210 - accuracy: 0.9368\n",
            "Epoch 18/20\n",
            "60000/60000 [==============================] - 1s 22us/sample - loss: 0.2159 - accuracy: 0.9380\n",
            "Epoch 19/20\n",
            "60000/60000 [==============================] - 1s 22us/sample - loss: 0.2110 - accuracy: 0.9396\n",
            "Epoch 20/20\n",
            "60000/60000 [==============================] - 1s 22us/sample - loss: 0.2063 - accuracy: 0.9411\n"
          ]
        },
        {
          "output_type": "execute_result",
          "data": {
            "text/plain": [
              "<tensorflow.python.keras.callbacks.History at 0x7fb892e0f750>"
            ]
          },
          "metadata": {},
          "execution_count": 22
        }
      ]
    },
    {
      "cell_type": "code",
      "source": [
        "score = model.evaluate(X_test, Y_test, verbose=0)\n",
        "print('Test score:', score[0])\n",
        "print('Test accuracy:', score[1])"
      ],
      "metadata": {
        "colab": {
          "base_uri": "https://localhost:8080/"
        },
        "id": "cDzKB5s4ATDK",
        "outputId": "7c377e4c-7918-4f82-c8ca-b8ff971fe50e"
      },
      "execution_count": 23,
      "outputs": [
        {
          "output_type": "stream",
          "name": "stdout",
          "text": [
            "Test score: 0.20925037734806537\n",
            "Test accuracy: 0.9404\n"
          ]
        }
      ]
    },
    {
      "cell_type": "markdown",
      "source": [
        "Lesson Results:\n",
        "- train score (loss) 0.1397\n",
        "- train accuracy 0.9607\n",
        "- test score: 0.1431\n",
        "- test accuracy: 0.9576\n",
        "\n",
        "Example Results:\n",
        "- train score (loss) 0.2063\n",
        "- train accuracy 0.9411\n",
        "- test score 0.2093\n",
        "- test accuracy 0.9404\n",
        "\n",
        "Both the train and test scores are pretty similar in both models. The first model had much more dense layers resulting in slightly better values for loss and accuracy."
      ],
      "metadata": {
        "id": "bQ5iuDWCAro7"
      }
    },
    {
      "cell_type": "markdown",
      "source": [
        "2. In this task, build another ANN. This ANN should have five hidden layers and one output layer. All of the layers should be dense. The neuron numbers for the hidden layers should be 1024, 512, 256, 128, and 64. Train this model for 20 epochs, and test it using the same data from the previous task. Then compare your results. Is there any difference? If so, why?"
      ],
      "metadata": {
        "id": "v6WahmjQBopy"
      }
    },
    {
      "cell_type": "code",
      "source": [
        "model = Sequential()\n",
        "# our first dense layer is 1024\n",
        "model.add(Dense(1024, input_shape=(784,), activation=\"relu\"))\n",
        "# our second dense layer is 512\n",
        "model.add(Dense(512, activation=\"relu\"))\n",
        "# our third dense layer is 256\n",
        "model.add(Dense(256, activation=\"relu\"))\n",
        "# our fourth dense layer is 128\n",
        "model.add(Dense(128, activation=\"relu\"))\n",
        "# our fifth dense layer is 64\n",
        "model.add(Dense(64, activation=\"relu\"))\n",
        "# last layer, output layer, is 10\n",
        "model.add(Dense(10, activation=\"softmax\"))"
      ],
      "metadata": {
        "id": "p0OFsQy7Aa3T"
      },
      "execution_count": 24,
      "outputs": []
    },
    {
      "cell_type": "code",
      "source": [
        "model.compile(optimizer='sgd', loss='categorical_crossentropy',\n",
        "              metrics=['accuracy'])"
      ],
      "metadata": {
        "id": "U3q6CoW8CTxs"
      },
      "execution_count": 25,
      "outputs": []
    },
    {
      "cell_type": "code",
      "source": [
        "# setting verbose=1 prints out some results after each epoch\n",
        "model.fit(X_train, Y_train, batch_size=batch_size, epochs=20, verbose=1)"
      ],
      "metadata": {
        "colab": {
          "base_uri": "https://localhost:8080/"
        },
        "id": "7F4-m8wACX_W",
        "outputId": "add882ff-e2d9-40fc-afc1-14165720587c"
      },
      "execution_count": 26,
      "outputs": [
        {
          "output_type": "stream",
          "name": "stdout",
          "text": [
            "Train on 60000 samples\n",
            "Epoch 1/20\n",
            "60000/60000 [==============================] - 17s 276us/sample - loss: 1.2869 - accuracy: 0.6790\n",
            "Epoch 2/20\n",
            "60000/60000 [==============================] - 15s 253us/sample - loss: 0.3790 - accuracy: 0.8932\n",
            "Epoch 3/20\n",
            "60000/60000 [==============================] - 15s 254us/sample - loss: 0.2882 - accuracy: 0.9162\n",
            "Epoch 4/20\n",
            "60000/60000 [==============================] - 15s 252us/sample - loss: 0.2430 - accuracy: 0.9283\n",
            "Epoch 5/20\n",
            "60000/60000 [==============================] - 15s 251us/sample - loss: 0.2103 - accuracy: 0.9386\n",
            "Epoch 6/20\n",
            "60000/60000 [==============================] - 15s 256us/sample - loss: 0.1871 - accuracy: 0.9456\n",
            "Epoch 7/20\n",
            "60000/60000 [==============================] - 15s 249us/sample - loss: 0.1659 - accuracy: 0.9516\n",
            "Epoch 8/20\n",
            "60000/60000 [==============================] - 15s 250us/sample - loss: 0.1505 - accuracy: 0.9559\n",
            "Epoch 9/20\n",
            "60000/60000 [==============================] - 16s 258us/sample - loss: 0.1358 - accuracy: 0.9607\n",
            "Epoch 10/20\n",
            "60000/60000 [==============================] - 15s 252us/sample - loss: 0.1238 - accuracy: 0.9645\n",
            "Epoch 11/20\n",
            "60000/60000 [==============================] - 15s 247us/sample - loss: 0.1136 - accuracy: 0.9672\n",
            "Epoch 12/20\n",
            "60000/60000 [==============================] - 15s 251us/sample - loss: 0.1044 - accuracy: 0.9706\n",
            "Epoch 13/20\n",
            "60000/60000 [==============================] - 15s 246us/sample - loss: 0.0964 - accuracy: 0.9723\n",
            "Epoch 14/20\n",
            "60000/60000 [==============================] - 15s 253us/sample - loss: 0.0889 - accuracy: 0.9746\n",
            "Epoch 15/20\n",
            "60000/60000 [==============================] - 15s 250us/sample - loss: 0.0823 - accuracy: 0.9770\n",
            "Epoch 16/20\n",
            "60000/60000 [==============================] - 15s 247us/sample - loss: 0.0756 - accuracy: 0.9785\n",
            "Epoch 17/20\n",
            "60000/60000 [==============================] - 15s 248us/sample - loss: 0.0707 - accuracy: 0.9799\n",
            "Epoch 18/20\n",
            "60000/60000 [==============================] - 15s 253us/sample - loss: 0.0650 - accuracy: 0.9822\n",
            "Epoch 19/20\n",
            "60000/60000 [==============================] - 15s 251us/sample - loss: 0.0605 - accuracy: 0.9833\n",
            "Epoch 20/20\n",
            "60000/60000 [==============================] - 15s 250us/sample - loss: 0.0561 - accuracy: 0.9848\n"
          ]
        },
        {
          "output_type": "execute_result",
          "data": {
            "text/plain": [
              "<tensorflow.python.keras.callbacks.History at 0x7fb830594610>"
            ]
          },
          "metadata": {},
          "execution_count": 26
        }
      ]
    },
    {
      "cell_type": "code",
      "source": [
        "score = model.evaluate(X_test, Y_test, verbose=0)\n",
        "print('Test score:', score[0])\n",
        "print('Test accuracy:', score[1])"
      ],
      "metadata": {
        "colab": {
          "base_uri": "https://localhost:8080/"
        },
        "id": "ZdLpcWIkCaoJ",
        "outputId": "92d8f51c-e8d9-4250-99b7-1ea879b5a2bf"
      },
      "execution_count": 27,
      "outputs": [
        {
          "output_type": "stream",
          "name": "stdout",
          "text": [
            "Test score: 0.08592790067396126\n",
            "Test accuracy: 0.9734\n"
          ]
        }
      ]
    },
    {
      "cell_type": "markdown",
      "source": [
        "The test score is 0.0859 and the test accuracy is 0.9734, which are both better values than the previous models. There are more layers and they are more dense, leading to better train and test results, but the runtime was much longer. The difference in the training and test score was much larger potentially resulting in a too complex model that may be overfitting."
      ],
      "metadata": {
        "id": "6e_NgBv1D2e8"
      }
    },
    {
      "cell_type": "code",
      "source": [
        ""
      ],
      "metadata": {
        "id": "IHZILEISDx5j"
      },
      "execution_count": null,
      "outputs": []
    }
  ]
}