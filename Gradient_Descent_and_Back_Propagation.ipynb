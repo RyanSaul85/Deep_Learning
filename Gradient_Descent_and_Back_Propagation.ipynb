{
  "nbformat": 4,
  "nbformat_minor": 0,
  "metadata": {
    "colab": {
      "name": "Gradient_Descent_and_Back_Propagation.ipynb",
      "provenance": []
    },
    "kernelspec": {
      "name": "python3",
      "display_name": "Python 3"
    },
    "language_info": {
      "name": "python"
    }
  },
  "cells": [
    {
      "cell_type": "markdown",
      "source": [
        "# Loading Libraries and Data"
      ],
      "metadata": {
        "id": "XUshCGbyIeha"
      }
    },
    {
      "cell_type": "code",
      "execution_count": 1,
      "metadata": {
        "id": "u4TThoidGxYq"
      },
      "outputs": [],
      "source": [
        "import warnings\n",
        "warnings.filterwarnings(\"ignore\")\n",
        "\n",
        "from tensorflow.keras.datasets import mnist\n",
        "from tensorflow.keras.utils import to_categorical\n",
        "from tensorflow.keras.models import Sequential \n",
        "from tensorflow.keras.layers import Dense"
      ]
    },
    {
      "cell_type": "code",
      "source": [
        "(X_train, y_train), (X_test, y_test) = mnist.load_data()\n",
        "\n",
        "input_dim = 784  # 28*28\n",
        "output_dim = nb_classes = 10\n",
        "nb_epoch = 20\n",
        "\n",
        "X_train = X_train.reshape(60000, input_dim)\n",
        "X_test = X_test.reshape(10000, input_dim)\n",
        "X_train = X_train.astype('float32')\n",
        "X_test = X_test.astype('float32')\n",
        "X_train /= 255\n",
        "X_test /= 255"
      ],
      "metadata": {
        "colab": {
          "base_uri": "https://localhost:8080/"
        },
        "id": "blR9vtihIRwE",
        "outputId": "7dfe9877-57a4-48fc-ee82-3de6e06e14a4"
      },
      "execution_count": 2,
      "outputs": [
        {
          "output_type": "stream",
          "name": "stdout",
          "text": [
            "Downloading data from https://storage.googleapis.com/tensorflow/tf-keras-datasets/mnist.npz\n",
            "11493376/11490434 [==============================] - 0s 0us/step\n",
            "11501568/11490434 [==============================] - 0s 0us/step\n"
          ]
        }
      ]
    },
    {
      "cell_type": "code",
      "source": [
        "Y_train = to_categorical(y_train, nb_classes)\n",
        "Y_test = to_categorical(y_test, nb_classes)"
      ],
      "metadata": {
        "id": "Mc07LUDAIZXf"
      },
      "execution_count": 3,
      "outputs": []
    },
    {
      "cell_type": "markdown",
      "source": [
        "# Task 1: In this task, you'll implement several ANN models with different batch sizes."
      ],
      "metadata": {
        "id": "7NkuPS1DIjyi"
      }
    },
    {
      "cell_type": "markdown",
      "source": [
        "## 1. Implement a three-layer ANN model with 128, 64, and 10 neurons in the layers. Use 8 as the mini-batch size."
      ],
      "metadata": {
        "id": "uESsWMldIsTI"
      }
    },
    {
      "cell_type": "code",
      "source": [
        "model = Sequential()\n",
        "# our first dense layer\n",
        "model.add(Dense(128, input_shape=(784,), activation=\"relu\"))\n",
        "# our second dense layer\n",
        "model.add(Dense(64, activation=\"relu\"))\n",
        "# last layer is the output layer.\n",
        "model.add(Dense(10, activation=\"softmax\"))\n",
        "\n",
        "model.compile(optimizer='sgd', loss='categorical_crossentropy',\n",
        "              metrics=['accuracy'])\n",
        "\n",
        "# setting verbose=1 prints out some results after each epoch\n",
        "model.fit(X_train, Y_train, batch_size=8, epochs=20, verbose=1)"
      ],
      "metadata": {
        "colab": {
          "base_uri": "https://localhost:8080/"
        },
        "id": "M-_4fba6Idfj",
        "outputId": "01625de2-5dd9-49bd-cf7c-43fcb3a77067"
      },
      "execution_count": 4,
      "outputs": [
        {
          "output_type": "stream",
          "name": "stdout",
          "text": [
            "Epoch 1/20\n",
            "7500/7500 [==============================] - 16s 2ms/step - loss: 0.3644 - accuracy: 0.8946\n",
            "Epoch 2/20\n",
            "7500/7500 [==============================] - 15s 2ms/step - loss: 0.1718 - accuracy: 0.9500\n",
            "Epoch 3/20\n",
            "7500/7500 [==============================] - 16s 2ms/step - loss: 0.1241 - accuracy: 0.9645\n",
            "Epoch 4/20\n",
            "7500/7500 [==============================] - 16s 2ms/step - loss: 0.0970 - accuracy: 0.9715\n",
            "Epoch 5/20\n",
            "7500/7500 [==============================] - 16s 2ms/step - loss: 0.0795 - accuracy: 0.9766\n",
            "Epoch 6/20\n",
            "7500/7500 [==============================] - 16s 2ms/step - loss: 0.0666 - accuracy: 0.9799\n",
            "Epoch 7/20\n",
            "7500/7500 [==============================] - 16s 2ms/step - loss: 0.0566 - accuracy: 0.9834\n",
            "Epoch 8/20\n",
            "7500/7500 [==============================] - 15s 2ms/step - loss: 0.0482 - accuracy: 0.9862\n",
            "Epoch 9/20\n",
            "7500/7500 [==============================] - 16s 2ms/step - loss: 0.0425 - accuracy: 0.9869\n",
            "Epoch 10/20\n",
            "7500/7500 [==============================] - 16s 2ms/step - loss: 0.0361 - accuracy: 0.9896\n",
            "Epoch 11/20\n",
            "7500/7500 [==============================] - 16s 2ms/step - loss: 0.0317 - accuracy: 0.9908\n",
            "Epoch 12/20\n",
            "7500/7500 [==============================] - 15s 2ms/step - loss: 0.0269 - accuracy: 0.9923\n",
            "Epoch 13/20\n",
            "7500/7500 [==============================] - 17s 2ms/step - loss: 0.0230 - accuracy: 0.9938\n",
            "Epoch 14/20\n",
            "7500/7500 [==============================] - 16s 2ms/step - loss: 0.0198 - accuracy: 0.9948\n",
            "Epoch 15/20\n",
            "7500/7500 [==============================] - 15s 2ms/step - loss: 0.0168 - accuracy: 0.9960\n",
            "Epoch 16/20\n",
            "7500/7500 [==============================] - 16s 2ms/step - loss: 0.0150 - accuracy: 0.9965\n",
            "Epoch 17/20\n",
            "7500/7500 [==============================] - 16s 2ms/step - loss: 0.0128 - accuracy: 0.9973\n",
            "Epoch 18/20\n",
            "7500/7500 [==============================] - 15s 2ms/step - loss: 0.0109 - accuracy: 0.9977\n",
            "Epoch 19/20\n",
            "7500/7500 [==============================] - 15s 2ms/step - loss: 0.0093 - accuracy: 0.9985\n",
            "Epoch 20/20\n",
            "7500/7500 [==============================] - 16s 2ms/step - loss: 0.0080 - accuracy: 0.9987\n"
          ]
        },
        {
          "output_type": "execute_result",
          "data": {
            "text/plain": [
              "<keras.callbacks.History at 0x7fcff78d1450>"
            ]
          },
          "metadata": {},
          "execution_count": 4
        }
      ]
    },
    {
      "cell_type": "code",
      "source": [
        "score = model.evaluate(X_test, Y_test, verbose=0)\n",
        "print('Test score:', score[0])\n",
        "print('Test accuracy:', score[1])"
      ],
      "metadata": {
        "colab": {
          "base_uri": "https://localhost:8080/"
        },
        "id": "R_qNdqvTJmkl",
        "outputId": "c980612b-7bd8-49b9-8ff9-498e5d0c145a"
      },
      "execution_count": 5,
      "outputs": [
        {
          "output_type": "stream",
          "name": "stdout",
          "text": [
            "Test score: 0.07671058923006058\n",
            "Test accuracy: 0.978600025177002\n"
          ]
        }
      ]
    },
    {
      "cell_type": "markdown",
      "source": [
        "## 2. Implement a three-layer ANN model with 128, 64, and 10 neurons in the layers. Use 128 as the mini-batch size."
      ],
      "metadata": {
        "id": "M5aD_AzNJxEE"
      }
    },
    {
      "cell_type": "code",
      "source": [
        "model = Sequential()\n",
        "# our first dense layer\n",
        "model.add(Dense(128, input_shape=(784,), activation=\"relu\"))\n",
        "# our second dense layer\n",
        "model.add(Dense(64, activation=\"relu\"))\n",
        "# last layer is the output layer.\n",
        "model.add(Dense(10, activation=\"softmax\"))\n",
        "\n",
        "model.compile(optimizer='sgd', loss='categorical_crossentropy',\n",
        "              metrics=['accuracy'])\n",
        "\n",
        "# setting verbose=1 prints out some results after each epoch\n",
        "model.fit(X_train, Y_train, batch_size=128, epochs=20, verbose=1)"
      ],
      "metadata": {
        "colab": {
          "base_uri": "https://localhost:8080/"
        },
        "id": "Q8zCHjsLJwTz",
        "outputId": "a6343f56-ae43-4666-ccfb-29a712e7e897"
      },
      "execution_count": 6,
      "outputs": [
        {
          "output_type": "stream",
          "name": "stdout",
          "text": [
            "Epoch 1/20\n",
            "469/469 [==============================] - 2s 4ms/step - loss: 1.3210 - accuracy: 0.6501\n",
            "Epoch 2/20\n",
            "469/469 [==============================] - 2s 4ms/step - loss: 0.5310 - accuracy: 0.8640\n",
            "Epoch 3/20\n",
            "469/469 [==============================] - 2s 4ms/step - loss: 0.3987 - accuracy: 0.8909\n",
            "Epoch 4/20\n",
            "469/469 [==============================] - 2s 4ms/step - loss: 0.3457 - accuracy: 0.9041\n",
            "Epoch 5/20\n",
            "469/469 [==============================] - 2s 4ms/step - loss: 0.3145 - accuracy: 0.9121\n",
            "Epoch 6/20\n",
            "469/469 [==============================] - 2s 4ms/step - loss: 0.2928 - accuracy: 0.9175\n",
            "Epoch 7/20\n",
            "469/469 [==============================] - 2s 4ms/step - loss: 0.2758 - accuracy: 0.9221\n",
            "Epoch 8/20\n",
            "469/469 [==============================] - 2s 4ms/step - loss: 0.2616 - accuracy: 0.9263\n",
            "Epoch 9/20\n",
            "469/469 [==============================] - 2s 4ms/step - loss: 0.2495 - accuracy: 0.9302\n",
            "Epoch 10/20\n",
            "469/469 [==============================] - 2s 4ms/step - loss: 0.2388 - accuracy: 0.9330\n",
            "Epoch 11/20\n",
            "469/469 [==============================] - 2s 4ms/step - loss: 0.2292 - accuracy: 0.9356\n",
            "Epoch 12/20\n",
            "469/469 [==============================] - 2s 4ms/step - loss: 0.2205 - accuracy: 0.9378\n",
            "Epoch 13/20\n",
            "469/469 [==============================] - 2s 4ms/step - loss: 0.2128 - accuracy: 0.9403\n",
            "Epoch 14/20\n",
            "469/469 [==============================] - 2s 4ms/step - loss: 0.2057 - accuracy: 0.9423\n",
            "Epoch 15/20\n",
            "469/469 [==============================] - 2s 4ms/step - loss: 0.1991 - accuracy: 0.9437\n",
            "Epoch 16/20\n",
            "469/469 [==============================] - 2s 4ms/step - loss: 0.1927 - accuracy: 0.9453\n",
            "Epoch 17/20\n",
            "469/469 [==============================] - 2s 4ms/step - loss: 0.1869 - accuracy: 0.9473\n",
            "Epoch 18/20\n",
            "469/469 [==============================] - 2s 4ms/step - loss: 0.1814 - accuracy: 0.9486\n",
            "Epoch 19/20\n",
            "469/469 [==============================] - 2s 4ms/step - loss: 0.1764 - accuracy: 0.9494\n",
            "Epoch 20/20\n",
            "469/469 [==============================] - 2s 4ms/step - loss: 0.1715 - accuracy: 0.9512\n"
          ]
        },
        {
          "output_type": "execute_result",
          "data": {
            "text/plain": [
              "<keras.callbacks.History at 0x7fcff7844450>"
            ]
          },
          "metadata": {},
          "execution_count": 6
        }
      ]
    },
    {
      "cell_type": "code",
      "source": [
        "score = model.evaluate(X_test, Y_test, verbose=0)\n",
        "print('Test score:', score[0])\n",
        "print('Test accuracy:', score[1])"
      ],
      "metadata": {
        "colab": {
          "base_uri": "https://localhost:8080/"
        },
        "id": "PNEBZ8CVJ8lt",
        "outputId": "3b8a2a0e-3e78-4445-db77-3996c5437cce"
      },
      "execution_count": 7,
      "outputs": [
        {
          "output_type": "stream",
          "name": "stdout",
          "text": [
            "Test score: 0.17072197794914246\n",
            "Test accuracy: 0.9490000009536743\n"
          ]
        }
      ]
    },
    {
      "cell_type": "markdown",
      "source": [
        "## 3. Implement a three-layer ANN model with 128, 64, and 10 neurons in the layers. Use the full sample as the batch size."
      ],
      "metadata": {
        "id": "el-8HirSKHbv"
      }
    },
    {
      "cell_type": "code",
      "source": [
        "model = Sequential()\n",
        "# our first dense layer\n",
        "model.add(Dense(128, input_shape=(784,), activation=\"relu\"))\n",
        "# our second dense layer\n",
        "model.add(Dense(64, activation=\"relu\"))\n",
        "# last layer is the output layer.\n",
        "model.add(Dense(10, activation=\"softmax\"))\n",
        "\n",
        "model.compile(optimizer='sgd', loss='categorical_crossentropy',\n",
        "              metrics=['accuracy'])\n",
        "\n",
        "# setting verbose=1 prints out some results after each epoch\n",
        "model.fit(X_train, Y_train, batch_size=X_train.shape[0], epochs=20, verbose=1)"
      ],
      "metadata": {
        "colab": {
          "base_uri": "https://localhost:8080/"
        },
        "id": "2L6gWqfpKLoC",
        "outputId": "51e0dc70-e060-4fde-df92-4612547f6a13"
      },
      "execution_count": 8,
      "outputs": [
        {
          "output_type": "stream",
          "name": "stdout",
          "text": [
            "Epoch 1/20\n",
            "1/1 [==============================] - 1s 1s/step - loss: 2.2930 - accuracy: 0.1451\n",
            "Epoch 2/20\n",
            "1/1 [==============================] - 1s 633ms/step - loss: 2.2884 - accuracy: 0.1499\n",
            "Epoch 3/20\n",
            "1/1 [==============================] - 1s 618ms/step - loss: 2.2839 - accuracy: 0.1543\n",
            "Epoch 4/20\n",
            "1/1 [==============================] - 1s 640ms/step - loss: 2.2794 - accuracy: 0.1595\n",
            "Epoch 5/20\n",
            "1/1 [==============================] - 1s 621ms/step - loss: 2.2751 - accuracy: 0.1649\n",
            "Epoch 6/20\n",
            "1/1 [==============================] - 1s 605ms/step - loss: 2.2708 - accuracy: 0.1702\n",
            "Epoch 7/20\n",
            "1/1 [==============================] - 1s 613ms/step - loss: 2.2665 - accuracy: 0.1748\n",
            "Epoch 8/20\n",
            "1/1 [==============================] - 1s 614ms/step - loss: 2.2623 - accuracy: 0.1807\n",
            "Epoch 9/20\n",
            "1/1 [==============================] - 1s 614ms/step - loss: 2.2582 - accuracy: 0.1861\n",
            "Epoch 10/20\n",
            "1/1 [==============================] - 1s 623ms/step - loss: 2.2541 - accuracy: 0.1913\n",
            "Epoch 11/20\n",
            "1/1 [==============================] - 1s 614ms/step - loss: 2.2501 - accuracy: 0.1968\n",
            "Epoch 12/20\n",
            "1/1 [==============================] - 1s 619ms/step - loss: 2.2461 - accuracy: 0.2020\n",
            "Epoch 13/20\n",
            "1/1 [==============================] - 1s 618ms/step - loss: 2.2421 - accuracy: 0.2069\n",
            "Epoch 14/20\n",
            "1/1 [==============================] - 1s 631ms/step - loss: 2.2381 - accuracy: 0.2131\n",
            "Epoch 15/20\n",
            "1/1 [==============================] - 1s 615ms/step - loss: 2.2342 - accuracy: 0.2187\n",
            "Epoch 16/20\n",
            "1/1 [==============================] - 1s 611ms/step - loss: 2.2303 - accuracy: 0.2240\n",
            "Epoch 17/20\n",
            "1/1 [==============================] - 1s 610ms/step - loss: 2.2265 - accuracy: 0.2297\n",
            "Epoch 18/20\n",
            "1/1 [==============================] - 1s 607ms/step - loss: 2.2226 - accuracy: 0.2350\n",
            "Epoch 19/20\n",
            "1/1 [==============================] - 1s 612ms/step - loss: 2.2188 - accuracy: 0.2408\n",
            "Epoch 20/20\n",
            "1/1 [==============================] - 1s 576ms/step - loss: 2.2150 - accuracy: 0.2458\n"
          ]
        },
        {
          "output_type": "execute_result",
          "data": {
            "text/plain": [
              "<keras.callbacks.History at 0x7fcff76f4350>"
            ]
          },
          "metadata": {},
          "execution_count": 8
        }
      ]
    },
    {
      "cell_type": "code",
      "source": [
        "score = model.evaluate(X_test, Y_test, verbose=0)\n",
        "print('Test score:', score[0])\n",
        "print('Test accuracy:', score[1])"
      ],
      "metadata": {
        "colab": {
          "base_uri": "https://localhost:8080/"
        },
        "id": "bGolMyYlKUsn",
        "outputId": "252f92c7-bd40-47b3-d76a-6ae313c4bcdd"
      },
      "execution_count": 9,
      "outputs": [
        {
          "output_type": "stream",
          "name": "stdout",
          "text": [
            "Test score: 2.2111291885375977\n",
            "Test accuracy: 0.2515999972820282\n"
          ]
        }
      ]
    },
    {
      "cell_type": "markdown",
      "source": [
        "## 4. Compare the results of each model. Which batch size performed best?"
      ],
      "metadata": {
        "id": "lxXwFYnuKYUa"
      }
    },
    {
      "cell_type": "markdown",
      "source": [
        "128, 64, and 10 neurons in the layers, mini-batch size 8\n",
        "- Train Score, Accuracy\n",
        " - 0.0080, 0.9987\n",
        "- Test Score, Accuracy\n",
        " - 0.0767, 0.9786\n",
        "\n",
        "128, 64, and 10 neurons in the layers, mini-batch size 128\n",
        "- Train Score, Accuracy\n",
        " - 0.1715, 0.9512\n",
        "- Test Score, Accuracy\n",
        " - 0.1707, 0.9490\n",
        "\n",
        "128, 64, and 10 neurons in the layers, full size batch\n",
        "- Train Score, Accuracy\n",
        " - 2.2150, 0.2458\n",
        "- Test Score, Accuracy\n",
        " - 2.2111, 0.2516\n",
        "\n",
        "The mini-batch size 8 had the best results in both the score and accuracy, but there is a significant difference in the differences in train and test score showing a potential for overfitting. Therefore, the model with a mini-batch size of 128 is the best model for this data.\n"
      ],
      "metadata": {
        "id": "g5zIxR0uKdHs"
      }
    },
    {
      "cell_type": "code",
      "source": [
        ""
      ],
      "metadata": {
        "id": "AKPC2N88MkKO"
      },
      "execution_count": null,
      "outputs": []
    },
    {
      "cell_type": "markdown",
      "source": [
        "# Task 2: In this task, you'll implement several ANN models with different learning rates for the stochastic gradient descent. In all of the models below, use 128 as your mini-batch size."
      ],
      "metadata": {
        "id": "LPdU1yapNT_l"
      }
    },
    {
      "cell_type": "code",
      "source": [
        "from tensorflow.keras import optimizers\n",
        "sgd_001 = optimizers.SGD(lr=0.01)\n",
        "sgd_100 = optimizers.SGD(lr=100)\n",
        "sgd_00000001 = optimizers.SGD(lr=0.0000001)"
      ],
      "metadata": {
        "id": "X2ZcsSpZOjGd"
      },
      "execution_count": 10,
      "outputs": []
    },
    {
      "cell_type": "markdown",
      "source": [
        "## 1. Implement a three-layer ANN model with 128, 64, and 10 neurons in the layers. Use 0.01 as the learning rate."
      ],
      "metadata": {
        "id": "1wItYLgBNlVb"
      }
    },
    {
      "cell_type": "code",
      "source": [
        "model = Sequential()\n",
        "# our first dense layer\n",
        "model.add(Dense(128, input_shape=(784,), activation=\"relu\"))\n",
        "# our second dense layer\n",
        "model.add(Dense(64, activation=\"relu\"))\n",
        "# last layer is the output layer.\n",
        "model.add(Dense(10, activation=\"softmax\"))\n",
        "\n",
        "model.compile(optimizer=sgd_001, loss='categorical_crossentropy',\n",
        "              metrics=['accuracy'])\n",
        "\n",
        "# setting verbose=1 prints out some results after each epoch\n",
        "model.fit(X_train, Y_train, batch_size=128, epochs=20, verbose=1)"
      ],
      "metadata": {
        "colab": {
          "base_uri": "https://localhost:8080/"
        },
        "id": "e4Y6uVFaNaA1",
        "outputId": "6674ffa8-7a6a-45dd-9a16-72b356f5bdfd"
      },
      "execution_count": 11,
      "outputs": [
        {
          "output_type": "stream",
          "name": "stdout",
          "text": [
            "Epoch 1/20\n",
            "469/469 [==============================] - 2s 5ms/step - loss: 1.2303 - accuracy: 0.7079\n",
            "Epoch 2/20\n",
            "469/469 [==============================] - 2s 4ms/step - loss: 0.4979 - accuracy: 0.8716\n",
            "Epoch 3/20\n",
            "469/469 [==============================] - 2s 4ms/step - loss: 0.3904 - accuracy: 0.8928\n",
            "Epoch 4/20\n",
            "469/469 [==============================] - 2s 4ms/step - loss: 0.3452 - accuracy: 0.9038\n",
            "Epoch 5/20\n",
            "469/469 [==============================] - 2s 4ms/step - loss: 0.3173 - accuracy: 0.9106\n",
            "Epoch 6/20\n",
            "469/469 [==============================] - 2s 5ms/step - loss: 0.2971 - accuracy: 0.9153\n",
            "Epoch 7/20\n",
            "469/469 [==============================] - 2s 4ms/step - loss: 0.2807 - accuracy: 0.9202\n",
            "Epoch 8/20\n",
            "469/469 [==============================] - 2s 5ms/step - loss: 0.2667 - accuracy: 0.9247\n",
            "Epoch 9/20\n",
            "469/469 [==============================] - 2s 5ms/step - loss: 0.2546 - accuracy: 0.9278\n",
            "Epoch 10/20\n",
            "469/469 [==============================] - 2s 5ms/step - loss: 0.2436 - accuracy: 0.9308\n",
            "Epoch 11/20\n",
            "469/469 [==============================] - 2s 5ms/step - loss: 0.2339 - accuracy: 0.9334\n",
            "Epoch 12/20\n",
            "469/469 [==============================] - 2s 5ms/step - loss: 0.2245 - accuracy: 0.9360\n",
            "Epoch 13/20\n",
            "469/469 [==============================] - 2s 5ms/step - loss: 0.2162 - accuracy: 0.9385\n",
            "Epoch 14/20\n",
            "469/469 [==============================] - 2s 5ms/step - loss: 0.2085 - accuracy: 0.9406\n",
            "Epoch 15/20\n",
            "469/469 [==============================] - 2s 5ms/step - loss: 0.2011 - accuracy: 0.9429\n",
            "Epoch 16/20\n",
            "469/469 [==============================] - 2s 5ms/step - loss: 0.1945 - accuracy: 0.9449\n",
            "Epoch 17/20\n",
            "469/469 [==============================] - 2s 5ms/step - loss: 0.1880 - accuracy: 0.9465\n",
            "Epoch 18/20\n",
            "469/469 [==============================] - 2s 5ms/step - loss: 0.1821 - accuracy: 0.9488\n",
            "Epoch 19/20\n",
            "469/469 [==============================] - 2s 5ms/step - loss: 0.1765 - accuracy: 0.9504\n",
            "Epoch 20/20\n",
            "469/469 [==============================] - 2s 5ms/step - loss: 0.1711 - accuracy: 0.9510\n"
          ]
        },
        {
          "output_type": "execute_result",
          "data": {
            "text/plain": [
              "<keras.callbacks.History at 0x7fcff755c4d0>"
            ]
          },
          "metadata": {},
          "execution_count": 11
        }
      ]
    },
    {
      "cell_type": "code",
      "source": [
        "score = model.evaluate(X_test, Y_test, verbose=0)\n",
        "print('Test score:', score[0])\n",
        "print('Test accuracy:', score[1])"
      ],
      "metadata": {
        "colab": {
          "base_uri": "https://localhost:8080/"
        },
        "id": "jNocfS3JOoCU",
        "outputId": "6a53c097-3520-4989-80d4-bd888083fb7a"
      },
      "execution_count": 12,
      "outputs": [
        {
          "output_type": "stream",
          "name": "stdout",
          "text": [
            "Test score: 0.16960208117961884\n",
            "Test accuracy: 0.9495999813079834\n"
          ]
        }
      ]
    },
    {
      "cell_type": "markdown",
      "source": [
        "## 2. Implement a three-layer ANN model with 128, 64, and 10 neurons in the layers. Use 100 as the learning rate."
      ],
      "metadata": {
        "id": "AhWwozsUO0Oq"
      }
    },
    {
      "cell_type": "code",
      "source": [
        "model = Sequential()\n",
        "# our first dense layer\n",
        "model.add(Dense(128, input_shape=(784,), activation=\"relu\"))\n",
        "# our second dense layer\n",
        "model.add(Dense(64, activation=\"relu\"))\n",
        "# last layer is the output layer.\n",
        "model.add(Dense(10, activation=\"softmax\"))\n",
        "\n",
        "model.compile(optimizer=sgd_100, loss='categorical_crossentropy',\n",
        "              metrics=['accuracy'])\n",
        "\n",
        "# setting verbose=1 prints out some results after each epoch\n",
        "model.fit(X_train, Y_train, batch_size=128, epochs=20, verbose=1)"
      ],
      "metadata": {
        "colab": {
          "base_uri": "https://localhost:8080/"
        },
        "id": "U3xUWEJJOsNp",
        "outputId": "b991bccc-3e70-4219-8820-d53389f84916"
      },
      "execution_count": 13,
      "outputs": [
        {
          "output_type": "stream",
          "name": "stdout",
          "text": [
            "Epoch 1/20\n",
            "469/469 [==============================] - 3s 5ms/step - loss: 141194418999552638976.0000 - accuracy: 0.1049\n",
            "Epoch 2/20\n",
            "469/469 [==============================] - 2s 5ms/step - loss: 40.0812 - accuracy: 0.0999\n",
            "Epoch 3/20\n",
            "469/469 [==============================] - 2s 5ms/step - loss: 40.6658 - accuracy: 0.0989\n",
            "Epoch 4/20\n",
            "469/469 [==============================] - 2s 5ms/step - loss: 39.6073 - accuracy: 0.1025\n",
            "Epoch 5/20\n",
            "469/469 [==============================] - 2s 5ms/step - loss: 40.8037 - accuracy: 0.0997\n",
            "Epoch 6/20\n",
            "469/469 [==============================] - 2s 5ms/step - loss: 39.5059 - accuracy: 0.1017\n",
            "Epoch 7/20\n",
            "469/469 [==============================] - 2s 5ms/step - loss: 40.2279 - accuracy: 0.1014\n",
            "Epoch 8/20\n",
            "469/469 [==============================] - 2s 5ms/step - loss: 40.2535 - accuracy: 0.1000\n",
            "Epoch 9/20\n",
            "469/469 [==============================] - 2s 5ms/step - loss: 40.7341 - accuracy: 0.0991\n",
            "Epoch 10/20\n",
            "469/469 [==============================] - 2s 4ms/step - loss: 39.8965 - accuracy: 0.1014\n",
            "Epoch 11/20\n",
            "469/469 [==============================] - 2s 5ms/step - loss: 40.7214 - accuracy: 0.0992\n",
            "Epoch 12/20\n",
            "469/469 [==============================] - 2s 5ms/step - loss: 39.8745 - accuracy: 0.1005\n",
            "Epoch 13/20\n",
            "469/469 [==============================] - 2s 5ms/step - loss: 40.2059 - accuracy: 0.1009\n",
            "Epoch 14/20\n",
            "469/469 [==============================] - 2s 5ms/step - loss: 40.1395 - accuracy: 0.1019\n",
            "Epoch 15/20\n",
            "469/469 [==============================] - 2s 5ms/step - loss: 40.0032 - accuracy: 0.0993\n",
            "Epoch 16/20\n",
            "469/469 [==============================] - 2s 5ms/step - loss: 40.7010 - accuracy: 0.0993\n",
            "Epoch 17/20\n",
            "469/469 [==============================] - 2s 5ms/step - loss: 40.3625 - accuracy: 0.0991\n",
            "Epoch 18/20\n",
            "469/469 [==============================] - 2s 5ms/step - loss: 39.9047 - accuracy: 0.1017\n",
            "Epoch 19/20\n",
            "469/469 [==============================] - 2s 4ms/step - loss: 40.4110 - accuracy: 0.1016\n",
            "Epoch 20/20\n",
            "469/469 [==============================] - 2s 5ms/step - loss: 39.7179 - accuracy: 0.1018\n"
          ]
        },
        {
          "output_type": "execute_result",
          "data": {
            "text/plain": [
              "<keras.callbacks.History at 0x7fcff7440a50>"
            ]
          },
          "metadata": {},
          "execution_count": 13
        }
      ]
    },
    {
      "cell_type": "code",
      "source": [
        "score = model.evaluate(X_test, Y_test, verbose=0)\n",
        "print('Test score:', score[0])\n",
        "print('Test accuracy:', score[1])"
      ],
      "metadata": {
        "colab": {
          "base_uri": "https://localhost:8080/"
        },
        "id": "AA7lKBcjPFAh",
        "outputId": "e0ddcea5-53e3-41bf-fafa-766ec150839c"
      },
      "execution_count": 14,
      "outputs": [
        {
          "output_type": "stream",
          "name": "stdout",
          "text": [
            "Test score: 925.3594970703125\n",
            "Test accuracy: 0.08919999748468399\n"
          ]
        }
      ]
    },
    {
      "cell_type": "markdown",
      "source": [
        "## 3. Implement a three-layer ANN model with 128, 64, and 10 neurons in the layers. Use 0.0000001 as the learning rate."
      ],
      "metadata": {
        "id": "3XXyUd2TPJxn"
      }
    },
    {
      "cell_type": "code",
      "source": [
        "model = Sequential()\n",
        "# our first dense layer\n",
        "model.add(Dense(128, input_shape=(784,), activation=\"relu\"))\n",
        "# our second dense layer\n",
        "model.add(Dense(64, activation=\"relu\"))\n",
        "# last layer is the output layer.\n",
        "model.add(Dense(10, activation=\"softmax\"))\n",
        "\n",
        "model.compile(optimizer=sgd_00000001, loss='categorical_crossentropy',\n",
        "              metrics=['accuracy'])\n",
        "\n",
        "# setting verbose=1 prints out some results after each epoch\n",
        "model.fit(X_train, Y_train, batch_size=128, epochs=20, verbose=1)"
      ],
      "metadata": {
        "colab": {
          "base_uri": "https://localhost:8080/"
        },
        "id": "OBiT31EdPJQP",
        "outputId": "6fae688b-f126-4f66-fb27-1ae4143175b2"
      },
      "execution_count": 15,
      "outputs": [
        {
          "output_type": "stream",
          "name": "stdout",
          "text": [
            "Epoch 1/20\n",
            "469/469 [==============================] - 3s 5ms/step - loss: 2.3497 - accuracy: 0.0795\n",
            "Epoch 2/20\n",
            "469/469 [==============================] - 2s 5ms/step - loss: 2.3497 - accuracy: 0.0795\n",
            "Epoch 3/20\n",
            "469/469 [==============================] - 2s 5ms/step - loss: 2.3497 - accuracy: 0.0795\n",
            "Epoch 4/20\n",
            "469/469 [==============================] - 2s 4ms/step - loss: 2.3496 - accuracy: 0.0795\n",
            "Epoch 5/20\n",
            "469/469 [==============================] - 2s 5ms/step - loss: 2.3496 - accuracy: 0.0795\n",
            "Epoch 6/20\n",
            "469/469 [==============================] - 2s 5ms/step - loss: 2.3496 - accuracy: 0.0795\n",
            "Epoch 7/20\n",
            "469/469 [==============================] - 2s 5ms/step - loss: 2.3496 - accuracy: 0.0795\n",
            "Epoch 8/20\n",
            "469/469 [==============================] - 2s 4ms/step - loss: 2.3496 - accuracy: 0.0795\n",
            "Epoch 9/20\n",
            "469/469 [==============================] - 2s 5ms/step - loss: 2.3496 - accuracy: 0.0795\n",
            "Epoch 10/20\n",
            "469/469 [==============================] - 2s 4ms/step - loss: 2.3496 - accuracy: 0.0795\n",
            "Epoch 11/20\n",
            "469/469 [==============================] - 2s 5ms/step - loss: 2.3496 - accuracy: 0.0795\n",
            "Epoch 12/20\n",
            "469/469 [==============================] - 2s 4ms/step - loss: 2.3496 - accuracy: 0.0795\n",
            "Epoch 13/20\n",
            "469/469 [==============================] - 2s 4ms/step - loss: 2.3496 - accuracy: 0.0795\n",
            "Epoch 14/20\n",
            "469/469 [==============================] - 2s 5ms/step - loss: 2.3496 - accuracy: 0.0795\n",
            "Epoch 15/20\n",
            "469/469 [==============================] - 2s 5ms/step - loss: 2.3496 - accuracy: 0.0795\n",
            "Epoch 16/20\n",
            "469/469 [==============================] - 2s 4ms/step - loss: 2.3496 - accuracy: 0.0795\n",
            "Epoch 17/20\n",
            "469/469 [==============================] - 2s 4ms/step - loss: 2.3496 - accuracy: 0.0795\n",
            "Epoch 18/20\n",
            "469/469 [==============================] - 2s 4ms/step - loss: 2.3496 - accuracy: 0.0795\n",
            "Epoch 19/20\n",
            "469/469 [==============================] - 2s 5ms/step - loss: 2.3496 - accuracy: 0.0795\n",
            "Epoch 20/20\n",
            "469/469 [==============================] - 2s 5ms/step - loss: 2.3495 - accuracy: 0.0795\n"
          ]
        },
        {
          "output_type": "execute_result",
          "data": {
            "text/plain": [
              "<keras.callbacks.History at 0x7fcff72955d0>"
            ]
          },
          "metadata": {},
          "execution_count": 15
        }
      ]
    },
    {
      "cell_type": "code",
      "source": [
        "score = model.evaluate(X_test, Y_test, verbose=0)\n",
        "print('Test score:', score[0])\n",
        "print('Test accuracy:', score[1])"
      ],
      "metadata": {
        "colab": {
          "base_uri": "https://localhost:8080/"
        },
        "id": "0PQp0cu0PXkF",
        "outputId": "25f394f3-c99f-49bb-bc15-372f9208f553"
      },
      "execution_count": 16,
      "outputs": [
        {
          "output_type": "stream",
          "name": "stdout",
          "text": [
            "Test score: 2.3481955528259277\n",
            "Test accuracy: 0.08420000225305557\n"
          ]
        }
      ]
    },
    {
      "cell_type": "markdown",
      "source": [
        "## 4. Compare the results of each model. Which learning rate performed best?"
      ],
      "metadata": {
        "id": "-eCdBHBIPjDd"
      }
    },
    {
      "cell_type": "markdown",
      "source": [
        "128, 64, and 10 neurons, mini-batch size 128, learning rate 0.01\n",
        "- Train Score, Accuracy\n",
        " - 0.1711, 0.9510\n",
        "- Test Score, Accuracy\n",
        " - 0.1696, 0.9496\n",
        "\n",
        "128, 64, and 10 neurons, mini-batch size 128, learning rate 100\n",
        "- Train Score, Accuracy\n",
        " - 39.7179, 0.1018\n",
        "- Test Score, Accuracy\n",
        " - 925.3595, 0.0892\n",
        "\n",
        "128, 64, and 10 neurons, mini-batch size 128, learning rate 0.0000001\n",
        "- Train Score, Accuracy\n",
        " - 2.3495, 0.0795\n",
        "- Test Score, Accuracy\n",
        " - 2.3482, 0.0842\n",
        "\n",
        "The learning rate 0.01 had the best results and converged. The learning rate 100 diverged because the value was too large. The learning rate 0.0000001 model improved very slowly causing minimal improvements in 20 epochs."
      ],
      "metadata": {
        "id": "8ei25MMxPyKj"
      }
    },
    {
      "cell_type": "code",
      "source": [
        ""
      ],
      "metadata": {
        "id": "sAgwzPAPRNHu"
      },
      "execution_count": null,
      "outputs": []
    }
  ]
}