{
  "nbformat": 4,
  "nbformat_minor": 0,
  "metadata": {
    "colab": {
      "name": "Deep_Learning_Challenge.ipynb",
      "provenance": [],
      "collapsed_sections": [
        "P-1myn_N653r",
        "UEBUGYcG8_Lx",
        "DxVx90lV92rv",
        "wJi7i17k-hfM",
        "kVym0f28_j_8",
        "jp65DcNnAMve",
        "A7sStxKlBtZF"
      ]
    },
    "kernelspec": {
      "name": "python3",
      "display_name": "Python 3"
    },
    "language_info": {
      "name": "python"
    }
  },
  "cells": [
    {
      "cell_type": "markdown",
      "source": [
        "# **Fashion-MNIST data ANN modeling**"
      ],
      "metadata": {
        "id": "c59jKcrC6oRc"
      }
    },
    {
      "cell_type": "markdown",
      "source": [
        "# 1. Preprocess your data so that you can feed it into ANN models."
      ],
      "metadata": {
        "id": "P-1myn_N653r"
      }
    },
    {
      "cell_type": "code",
      "execution_count": 1,
      "metadata": {
        "id": "EXk4mMtH5TDr"
      },
      "outputs": [],
      "source": [
        "import warnings\n",
        "warnings.filterwarnings(\"ignore\")\n",
        "\n",
        "from tensorflow.keras.datasets import fashion_mnist\n",
        "from tensorflow.keras.utils import to_categorical\n",
        "from tensorflow.keras.models import Sequential \n",
        "from tensorflow.keras.layers import Dense"
      ]
    },
    {
      "cell_type": "markdown",
      "source": [
        "# 2. Split your data into training and test sets."
      ],
      "metadata": {
        "id": "I38y2nAa73g8"
      }
    },
    {
      "cell_type": "code",
      "source": [
        "(X_train, y_train), (X_test, y_test) = fashion_mnist.load_data()\n",
        "\n",
        "input_dim = 784  # 28*28\n",
        "output_dim = nb_classes = 10\n",
        "nb_epoch = 20\n",
        "\n",
        "X_train = X_train.reshape(60000, input_dim)\n",
        "X_test = X_test.reshape(10000, input_dim)\n",
        "X_train = X_train.astype('float32')\n",
        "X_test = X_test.astype('float32')\n",
        "X_train /= 255\n",
        "X_test /= 255"
      ],
      "metadata": {
        "colab": {
          "base_uri": "https://localhost:8080/"
        },
        "id": "nA_Ofx7I5faN",
        "outputId": "730f251e-bc18-4fae-ce7a-ab68190dba20"
      },
      "execution_count": 2,
      "outputs": [
        {
          "output_type": "stream",
          "name": "stdout",
          "text": [
            "Downloading data from https://storage.googleapis.com/tensorflow/tf-keras-datasets/train-labels-idx1-ubyte.gz\n",
            "32768/29515 [=================================] - 0s 0us/step\n",
            "40960/29515 [=========================================] - 0s 0us/step\n",
            "Downloading data from https://storage.googleapis.com/tensorflow/tf-keras-datasets/train-images-idx3-ubyte.gz\n",
            "26427392/26421880 [==============================] - 0s 0us/step\n",
            "26435584/26421880 [==============================] - 0s 0us/step\n",
            "Downloading data from https://storage.googleapis.com/tensorflow/tf-keras-datasets/t10k-labels-idx1-ubyte.gz\n",
            "16384/5148 [===============================================================================================] - 0s 0us/step\n",
            "Downloading data from https://storage.googleapis.com/tensorflow/tf-keras-datasets/t10k-images-idx3-ubyte.gz\n",
            "4423680/4422102 [==============================] - 0s 0us/step\n",
            "4431872/4422102 [==============================] - 0s 0us/step\n"
          ]
        }
      ]
    },
    {
      "cell_type": "code",
      "source": [
        "Y_train = to_categorical(y_train, nb_classes)\n",
        "Y_test = to_categorical(y_test, nb_classes)"
      ],
      "metadata": {
        "id": "Z6OKs2uw5lhr"
      },
      "execution_count": 3,
      "outputs": []
    },
    {
      "cell_type": "code",
      "source": [
        "X_train[0].shape"
      ],
      "metadata": {
        "colab": {
          "base_uri": "https://localhost:8080/"
        },
        "id": "io58HV0A_BlJ",
        "outputId": "0e690814-9f24-4737-8154-cbe2c8cd1882"
      },
      "execution_count": 4,
      "outputs": [
        {
          "output_type": "execute_result",
          "data": {
            "text/plain": [
              "(784,)"
            ]
          },
          "metadata": {},
          "execution_count": 4
        }
      ]
    },
    {
      "cell_type": "markdown",
      "source": [
        "# 3. Try different ANN models and train them on your training set.\n",
        "- You can play with the following:\n",
        " - Number of layers\n",
        " - Activation functions of the layers\n",
        " - Number of neurons in the layers\n",
        " - Different batch sizes during training"
      ],
      "metadata": {
        "id": "jiN4lqzc7_p7"
      }
    },
    {
      "cell_type": "markdown",
      "source": [
        "## Parameters\n",
        "- Layers: 3\n",
        "- Activation Function: relu\n",
        "- Neurons: 10\n",
        "- Batch Size: 8"
      ],
      "metadata": {
        "id": "UEBUGYcG8_Lx"
      }
    },
    {
      "cell_type": "code",
      "source": [
        "model = Sequential()\n",
        "# our first dense layer\n",
        "model.add(Dense(128, input_shape=(784,), activation=\"relu\"))\n",
        "# our second dense layer\n",
        "model.add(Dense(64, activation=\"relu\"))\n",
        "# last layer is the output layer.\n",
        "model.add(Dense(10, activation=\"softmax\"))\n",
        "\n",
        "model.compile(optimizer='sgd', loss='categorical_crossentropy',\n",
        "              metrics=['accuracy'])\n",
        "\n",
        "# setting verbose=1 prints out some results after each epoch\n",
        "model.fit(X_train, Y_train, batch_size=8, epochs=20, verbose=1)"
      ],
      "metadata": {
        "colab": {
          "base_uri": "https://localhost:8080/"
        },
        "id": "MF_BbNp66lP8",
        "outputId": "b96d0814-24d6-420f-801c-2d4de3bcaf56"
      },
      "execution_count": 5,
      "outputs": [
        {
          "output_type": "stream",
          "name": "stdout",
          "text": [
            "Epoch 1/20\n",
            "7500/7500 [==============================] - 14s 2ms/step - loss: 0.5735 - accuracy: 0.7988\n",
            "Epoch 2/20\n",
            "7500/7500 [==============================] - 13s 2ms/step - loss: 0.4160 - accuracy: 0.8498\n",
            "Epoch 3/20\n",
            "7500/7500 [==============================] - 14s 2ms/step - loss: 0.3734 - accuracy: 0.8646\n",
            "Epoch 4/20\n",
            "7500/7500 [==============================] - 15s 2ms/step - loss: 0.3477 - accuracy: 0.8730\n",
            "Epoch 5/20\n",
            "7500/7500 [==============================] - 14s 2ms/step - loss: 0.3280 - accuracy: 0.8800\n",
            "Epoch 6/20\n",
            "7500/7500 [==============================] - 14s 2ms/step - loss: 0.3132 - accuracy: 0.8855\n",
            "Epoch 7/20\n",
            "7500/7500 [==============================] - 14s 2ms/step - loss: 0.3004 - accuracy: 0.8900\n",
            "Epoch 8/20\n",
            "7500/7500 [==============================] - 13s 2ms/step - loss: 0.2897 - accuracy: 0.8927\n",
            "Epoch 9/20\n",
            "7500/7500 [==============================] - 14s 2ms/step - loss: 0.2787 - accuracy: 0.8964\n",
            "Epoch 10/20\n",
            "7500/7500 [==============================] - 14s 2ms/step - loss: 0.2700 - accuracy: 0.9003\n",
            "Epoch 11/20\n",
            "7500/7500 [==============================] - 14s 2ms/step - loss: 0.2634 - accuracy: 0.9017\n",
            "Epoch 12/20\n",
            "7500/7500 [==============================] - 14s 2ms/step - loss: 0.2554 - accuracy: 0.9059\n",
            "Epoch 13/20\n",
            "7500/7500 [==============================] - 16s 2ms/step - loss: 0.2492 - accuracy: 0.9058\n",
            "Epoch 14/20\n",
            "7500/7500 [==============================] - 16s 2ms/step - loss: 0.2416 - accuracy: 0.9102\n",
            "Epoch 15/20\n",
            "7500/7500 [==============================] - 15s 2ms/step - loss: 0.2362 - accuracy: 0.9112\n",
            "Epoch 16/20\n",
            "7500/7500 [==============================] - 13s 2ms/step - loss: 0.2311 - accuracy: 0.9130\n",
            "Epoch 17/20\n",
            "7500/7500 [==============================] - 14s 2ms/step - loss: 0.2248 - accuracy: 0.9163\n",
            "Epoch 18/20\n",
            "7500/7500 [==============================] - 14s 2ms/step - loss: 0.2200 - accuracy: 0.9175\n",
            "Epoch 19/20\n",
            "7500/7500 [==============================] - 14s 2ms/step - loss: 0.2154 - accuracy: 0.9187\n",
            "Epoch 20/20\n",
            "7500/7500 [==============================] - 14s 2ms/step - loss: 0.2109 - accuracy: 0.9207\n"
          ]
        },
        {
          "output_type": "execute_result",
          "data": {
            "text/plain": [
              "<keras.callbacks.History at 0x7f5089bf8350>"
            ]
          },
          "metadata": {},
          "execution_count": 5
        }
      ]
    },
    {
      "cell_type": "code",
      "source": [
        "score = model.evaluate(X_test, Y_test, verbose=0)\n",
        "print('Test score:', score[0])\n",
        "print('Test accuracy:', score[1])"
      ],
      "metadata": {
        "colab": {
          "base_uri": "https://localhost:8080/"
        },
        "id": "Xk_ofqAa8qHX",
        "outputId": "58be3540-4f70-4608-af40-d11783e2e166"
      },
      "execution_count": 6,
      "outputs": [
        {
          "output_type": "stream",
          "name": "stdout",
          "text": [
            "Test score: 0.33389702439308167\n",
            "Test accuracy: 0.880299985408783\n"
          ]
        }
      ]
    },
    {
      "cell_type": "markdown",
      "source": [
        "## Parameters\n",
        "- Layers: 3\n",
        "- Activation Function: relu\n",
        "- Neurons: 10\n",
        "- Batch Size: 128"
      ],
      "metadata": {
        "id": "DxVx90lV92rv"
      }
    },
    {
      "cell_type": "code",
      "source": [
        "model = Sequential()\n",
        "model.add(Dense(128, input_shape=(784,), activation=\"relu\"))\n",
        "model.add(Dense(64, activation=\"relu\"))\n",
        "model.add(Dense(10, activation=\"softmax\"))\n",
        "\n",
        "model.compile(optimizer='sgd', loss='categorical_crossentropy',\n",
        "              metrics=['accuracy'])\n",
        "\n",
        "model.fit(X_train, Y_train, batch_size=128, epochs=20, verbose=1)"
      ],
      "metadata": {
        "colab": {
          "base_uri": "https://localhost:8080/"
        },
        "id": "491pke888uOI",
        "outputId": "d10b8195-0cb1-4378-e7a2-459b2bdcf26a"
      },
      "execution_count": 7,
      "outputs": [
        {
          "output_type": "stream",
          "name": "stdout",
          "text": [
            "Epoch 1/20\n",
            "469/469 [==============================] - 2s 3ms/step - loss: 1.0558 - accuracy: 0.6759\n",
            "Epoch 2/20\n",
            "469/469 [==============================] - 2s 4ms/step - loss: 0.6411 - accuracy: 0.7872\n",
            "Epoch 3/20\n",
            "469/469 [==============================] - 2s 3ms/step - loss: 0.5584 - accuracy: 0.8126\n",
            "Epoch 4/20\n",
            "469/469 [==============================] - 2s 3ms/step - loss: 0.5182 - accuracy: 0.8232\n",
            "Epoch 5/20\n",
            "469/469 [==============================] - 2s 4ms/step - loss: 0.4918 - accuracy: 0.8308\n",
            "Epoch 6/20\n",
            "469/469 [==============================] - 2s 4ms/step - loss: 0.4736 - accuracy: 0.8353\n",
            "Epoch 7/20\n",
            "469/469 [==============================] - 2s 4ms/step - loss: 0.4591 - accuracy: 0.8413\n",
            "Epoch 8/20\n",
            "469/469 [==============================] - 2s 4ms/step - loss: 0.4480 - accuracy: 0.8443\n",
            "Epoch 9/20\n",
            "469/469 [==============================] - 2s 4ms/step - loss: 0.4383 - accuracy: 0.8470\n",
            "Epoch 10/20\n",
            "469/469 [==============================] - 2s 4ms/step - loss: 0.4302 - accuracy: 0.8499\n",
            "Epoch 11/20\n",
            "469/469 [==============================] - 2s 4ms/step - loss: 0.4228 - accuracy: 0.8530\n",
            "Epoch 12/20\n",
            "469/469 [==============================] - 2s 3ms/step - loss: 0.4162 - accuracy: 0.8541\n",
            "Epoch 13/20\n",
            "469/469 [==============================] - 2s 3ms/step - loss: 0.4104 - accuracy: 0.8577\n",
            "Epoch 14/20\n",
            "469/469 [==============================] - 2s 4ms/step - loss: 0.4048 - accuracy: 0.8585\n",
            "Epoch 15/20\n",
            "469/469 [==============================] - 2s 3ms/step - loss: 0.3986 - accuracy: 0.8611\n",
            "Epoch 16/20\n",
            "469/469 [==============================] - 2s 3ms/step - loss: 0.3937 - accuracy: 0.8626\n",
            "Epoch 17/20\n",
            "469/469 [==============================] - 2s 3ms/step - loss: 0.3892 - accuracy: 0.8642\n",
            "Epoch 18/20\n",
            "469/469 [==============================] - 2s 3ms/step - loss: 0.3858 - accuracy: 0.8656\n",
            "Epoch 19/20\n",
            "469/469 [==============================] - 2s 3ms/step - loss: 0.3814 - accuracy: 0.8672\n",
            "Epoch 20/20\n",
            "469/469 [==============================] - 2s 3ms/step - loss: 0.3780 - accuracy: 0.8675\n"
          ]
        },
        {
          "output_type": "execute_result",
          "data": {
            "text/plain": [
              "<keras.callbacks.History at 0x7f5089b4f210>"
            ]
          },
          "metadata": {},
          "execution_count": 7
        }
      ]
    },
    {
      "cell_type": "code",
      "source": [
        "score = model.evaluate(X_test, Y_test, verbose=0)\n",
        "print('Test score:', score[0])\n",
        "print('Test accuracy:', score[1])"
      ],
      "metadata": {
        "colab": {
          "base_uri": "https://localhost:8080/"
        },
        "id": "52dbVEEJ-Cil",
        "outputId": "14c0c3f0-a87f-431c-fab3-755292bd3ac9"
      },
      "execution_count": 8,
      "outputs": [
        {
          "output_type": "stream",
          "name": "stdout",
          "text": [
            "Test score: 0.4166035056114197\n",
            "Test accuracy: 0.853600025177002\n"
          ]
        }
      ]
    },
    {
      "cell_type": "markdown",
      "source": [
        "## Parameters\n",
        "- Layers: 3\n",
        "- Activation Function: tanh\n",
        "- Neurons: 10\n",
        "- Batch Size: 128"
      ],
      "metadata": {
        "id": "wJi7i17k-hfM"
      }
    },
    {
      "cell_type": "code",
      "source": [
        "model = Sequential()\n",
        "model.add(Dense(128, input_shape=(784,), activation=\"tanh\"))\n",
        "model.add(Dense(64, activation=\"tanh\"))\n",
        "model.add(Dense(10, activation=\"softmax\"))\n",
        "\n",
        "model.compile(optimizer='sgd', loss='categorical_crossentropy',\n",
        "              metrics=['accuracy'])\n",
        "\n",
        "model.fit(X_train, Y_train, batch_size=128, epochs=20, verbose=1)"
      ],
      "metadata": {
        "colab": {
          "base_uri": "https://localhost:8080/"
        },
        "id": "9qyRm2yw-YIH",
        "outputId": "2ecf251b-12b7-4829-8ab7-d53b0293f0e8"
      },
      "execution_count": 9,
      "outputs": [
        {
          "output_type": "stream",
          "name": "stdout",
          "text": [
            "Epoch 1/20\n",
            "469/469 [==============================] - 2s 3ms/step - loss: 1.0436 - accuracy: 0.6824\n",
            "Epoch 2/20\n",
            "469/469 [==============================] - 2s 3ms/step - loss: 0.6505 - accuracy: 0.7876\n",
            "Epoch 3/20\n",
            "469/469 [==============================] - 2s 3ms/step - loss: 0.5633 - accuracy: 0.8108\n",
            "Epoch 4/20\n",
            "469/469 [==============================] - 2s 3ms/step - loss: 0.5190 - accuracy: 0.8236\n",
            "Epoch 5/20\n",
            "469/469 [==============================] - 2s 3ms/step - loss: 0.4913 - accuracy: 0.8313\n",
            "Epoch 6/20\n",
            "469/469 [==============================] - 2s 4ms/step - loss: 0.4724 - accuracy: 0.8348\n",
            "Epoch 7/20\n",
            "469/469 [==============================] - 2s 4ms/step - loss: 0.4575 - accuracy: 0.8403\n",
            "Epoch 8/20\n",
            "469/469 [==============================] - 2s 3ms/step - loss: 0.4457 - accuracy: 0.8437\n",
            "Epoch 9/20\n",
            "469/469 [==============================] - 2s 4ms/step - loss: 0.4358 - accuracy: 0.8474\n",
            "Epoch 10/20\n",
            "469/469 [==============================] - 2s 4ms/step - loss: 0.4271 - accuracy: 0.8499\n",
            "Epoch 11/20\n",
            "469/469 [==============================] - 2s 4ms/step - loss: 0.4197 - accuracy: 0.8519\n",
            "Epoch 12/20\n",
            "469/469 [==============================] - 2s 4ms/step - loss: 0.4131 - accuracy: 0.8551\n",
            "Epoch 13/20\n",
            "469/469 [==============================] - 2s 5ms/step - loss: 0.4068 - accuracy: 0.8562\n",
            "Epoch 14/20\n",
            "469/469 [==============================] - 2s 4ms/step - loss: 0.4011 - accuracy: 0.8581\n",
            "Epoch 15/20\n",
            "469/469 [==============================] - 2s 4ms/step - loss: 0.3962 - accuracy: 0.8606\n",
            "Epoch 16/20\n",
            "469/469 [==============================] - 2s 4ms/step - loss: 0.3913 - accuracy: 0.8622\n",
            "Epoch 17/20\n",
            "469/469 [==============================] - 2s 4ms/step - loss: 0.3869 - accuracy: 0.8629\n",
            "Epoch 18/20\n",
            "469/469 [==============================] - 2s 4ms/step - loss: 0.3825 - accuracy: 0.8649\n",
            "Epoch 19/20\n",
            "469/469 [==============================] - 2s 4ms/step - loss: 0.3788 - accuracy: 0.8661\n",
            "Epoch 20/20\n",
            "469/469 [==============================] - 2s 4ms/step - loss: 0.3752 - accuracy: 0.8664\n"
          ]
        },
        {
          "output_type": "execute_result",
          "data": {
            "text/plain": [
              "<keras.callbacks.History at 0x7f50899b9410>"
            ]
          },
          "metadata": {},
          "execution_count": 9
        }
      ]
    },
    {
      "cell_type": "code",
      "source": [
        "score = model.evaluate(X_test, Y_test, verbose=0)\n",
        "print('Test score:', score[0])\n",
        "print('Test accuracy:', score[1])"
      ],
      "metadata": {
        "colab": {
          "base_uri": "https://localhost:8080/"
        },
        "id": "j7bb-a1o_IVi",
        "outputId": "0528849e-03b0-4e5d-e111-35a0288a5089"
      },
      "execution_count": 10,
      "outputs": [
        {
          "output_type": "stream",
          "name": "stdout",
          "text": [
            "Test score: 0.4134465754032135\n",
            "Test accuracy: 0.8511999845504761\n"
          ]
        }
      ]
    },
    {
      "cell_type": "markdown",
      "source": [
        "## Parameters\n",
        "- Layers: 3\n",
        "- Activation Function: sigmoid\n",
        "- Neurons: 10\n",
        "- Batch Size: 128"
      ],
      "metadata": {
        "id": "kVym0f28_j_8"
      }
    },
    {
      "cell_type": "code",
      "source": [
        "model = Sequential()\n",
        "model.add(Dense(128, input_shape=(784,), activation=\"sigmoid\"))\n",
        "model.add(Dense(64, activation=\"sigmoid\"))\n",
        "model.add(Dense(10, activation=\"softmax\"))\n",
        "\n",
        "model.compile(optimizer='sgd', loss='categorical_crossentropy',\n",
        "              metrics=['accuracy'])\n",
        "\n",
        "model.fit(X_train, Y_train, batch_size=128, epochs=20, verbose=1)"
      ],
      "metadata": {
        "colab": {
          "base_uri": "https://localhost:8080/"
        },
        "id": "9G-_DgnX_a91",
        "outputId": "ff2ce58c-c2c5-48e0-8cbb-987a38ebd6a9"
      },
      "execution_count": 11,
      "outputs": [
        {
          "output_type": "stream",
          "name": "stdout",
          "text": [
            "Epoch 1/20\n",
            "469/469 [==============================] - 2s 4ms/step - loss: 2.2660 - accuracy: 0.2824\n",
            "Epoch 2/20\n",
            "469/469 [==============================] - 2s 4ms/step - loss: 2.1283 - accuracy: 0.4877\n",
            "Epoch 3/20\n",
            "469/469 [==============================] - 2s 4ms/step - loss: 1.9479 - accuracy: 0.5483\n",
            "Epoch 4/20\n",
            "469/469 [==============================] - 2s 4ms/step - loss: 1.7159 - accuracy: 0.5933\n",
            "Epoch 5/20\n",
            "469/469 [==============================] - 2s 3ms/step - loss: 1.5062 - accuracy: 0.6194\n",
            "Epoch 6/20\n",
            "469/469 [==============================] - 2s 3ms/step - loss: 1.3494 - accuracy: 0.6216\n",
            "Epoch 7/20\n",
            "469/469 [==============================] - 2s 3ms/step - loss: 1.2342 - accuracy: 0.6355\n",
            "Epoch 8/20\n",
            "469/469 [==============================] - 2s 3ms/step - loss: 1.1471 - accuracy: 0.6485\n",
            "Epoch 9/20\n",
            "469/469 [==============================] - 2s 3ms/step - loss: 1.0788 - accuracy: 0.6617\n",
            "Epoch 10/20\n",
            "469/469 [==============================] - 2s 4ms/step - loss: 1.0232 - accuracy: 0.6708\n",
            "Epoch 11/20\n",
            "469/469 [==============================] - 2s 4ms/step - loss: 0.9765 - accuracy: 0.6823\n",
            "Epoch 12/20\n",
            "469/469 [==============================] - 2s 4ms/step - loss: 0.9361 - accuracy: 0.6919\n",
            "Epoch 13/20\n",
            "469/469 [==============================] - 2s 4ms/step - loss: 0.9005 - accuracy: 0.6998\n",
            "Epoch 14/20\n",
            "469/469 [==============================] - 2s 3ms/step - loss: 0.8689 - accuracy: 0.7067\n",
            "Epoch 15/20\n",
            "469/469 [==============================] - 2s 3ms/step - loss: 0.8407 - accuracy: 0.7143\n",
            "Epoch 16/20\n",
            "469/469 [==============================] - 2s 3ms/step - loss: 0.8155 - accuracy: 0.7191\n",
            "Epoch 17/20\n",
            "469/469 [==============================] - 2s 4ms/step - loss: 0.7930 - accuracy: 0.7235\n",
            "Epoch 18/20\n",
            "469/469 [==============================] - 2s 4ms/step - loss: 0.7728 - accuracy: 0.7288\n",
            "Epoch 19/20\n",
            "469/469 [==============================] - 2s 3ms/step - loss: 0.7548 - accuracy: 0.7322\n",
            "Epoch 20/20\n",
            "469/469 [==============================] - 2s 3ms/step - loss: 0.7385 - accuracy: 0.7359\n"
          ]
        },
        {
          "output_type": "execute_result",
          "data": {
            "text/plain": [
              "<keras.callbacks.History at 0x7f508987e510>"
            ]
          },
          "metadata": {},
          "execution_count": 11
        }
      ]
    },
    {
      "cell_type": "code",
      "source": [
        "score = model.evaluate(X_test, Y_test, verbose=0)\n",
        "print('Test score:', score[0])\n",
        "print('Test accuracy:', score[1])"
      ],
      "metadata": {
        "colab": {
          "base_uri": "https://localhost:8080/"
        },
        "id": "MYSjpbG5_w0T",
        "outputId": "f8f18448-bdfc-454a-8db0-d71f28201bb3"
      },
      "execution_count": 12,
      "outputs": [
        {
          "output_type": "stream",
          "name": "stdout",
          "text": [
            "Test score: 0.7446702122688293\n",
            "Test accuracy: 0.7267000079154968\n"
          ]
        }
      ]
    },
    {
      "cell_type": "markdown",
      "source": [
        "## Parameters\n",
        "- Layers: 4\n",
        "- Activation Function: relu\n",
        "- Neurons: 10\n",
        "- Batch Size: 128"
      ],
      "metadata": {
        "id": "jp65DcNnAMve"
      }
    },
    {
      "cell_type": "code",
      "source": [
        "model = Sequential()\n",
        "model.add(Dense(128, input_shape=(784,), activation=\"relu\"))\n",
        "model.add(Dense(64, activation=\"relu\"))\n",
        "model.add(Dense(32, activation=\"relu\"))\n",
        "model.add(Dense(10, activation=\"softmax\"))\n",
        "\n",
        "model.compile(optimizer='sgd', loss='categorical_crossentropy',\n",
        "              metrics=['accuracy'])\n",
        "\n",
        "model.fit(X_train, Y_train, batch_size=128, epochs=20, verbose=1)"
      ],
      "metadata": {
        "colab": {
          "base_uri": "https://localhost:8080/"
        },
        "id": "6rY2QV4t_4op",
        "outputId": "cbaa8a12-81af-4b16-af48-501e99ec6bf3"
      },
      "execution_count": 13,
      "outputs": [
        {
          "output_type": "stream",
          "name": "stdout",
          "text": [
            "Epoch 1/20\n",
            "469/469 [==============================] - 2s 4ms/step - loss: 1.1701 - accuracy: 0.6261\n",
            "Epoch 2/20\n",
            "469/469 [==============================] - 2s 4ms/step - loss: 0.6919 - accuracy: 0.7582\n",
            "Epoch 3/20\n",
            "469/469 [==============================] - 2s 4ms/step - loss: 0.5902 - accuracy: 0.7957\n",
            "Epoch 4/20\n",
            "469/469 [==============================] - 2s 4ms/step - loss: 0.5402 - accuracy: 0.8124\n",
            "Epoch 5/20\n",
            "469/469 [==============================] - 2s 3ms/step - loss: 0.5072 - accuracy: 0.8231\n",
            "Epoch 6/20\n",
            "469/469 [==============================] - 2s 3ms/step - loss: 0.4846 - accuracy: 0.8299\n",
            "Epoch 7/20\n",
            "469/469 [==============================] - 2s 3ms/step - loss: 0.4667 - accuracy: 0.8364\n",
            "Epoch 8/20\n",
            "469/469 [==============================] - 2s 3ms/step - loss: 0.4520 - accuracy: 0.8410\n",
            "Epoch 9/20\n",
            "469/469 [==============================] - 2s 4ms/step - loss: 0.4406 - accuracy: 0.8455\n",
            "Epoch 10/20\n",
            "469/469 [==============================] - 2s 4ms/step - loss: 0.4327 - accuracy: 0.8475\n",
            "Epoch 11/20\n",
            "469/469 [==============================] - 2s 5ms/step - loss: 0.4241 - accuracy: 0.8517\n",
            "Epoch 12/20\n",
            "469/469 [==============================] - 2s 4ms/step - loss: 0.4141 - accuracy: 0.8550\n",
            "Epoch 13/20\n",
            "469/469 [==============================] - 2s 4ms/step - loss: 0.4070 - accuracy: 0.8570\n",
            "Epoch 14/20\n",
            "469/469 [==============================] - 2s 4ms/step - loss: 0.4002 - accuracy: 0.8598\n",
            "Epoch 15/20\n",
            "469/469 [==============================] - 2s 4ms/step - loss: 0.3933 - accuracy: 0.8611\n",
            "Epoch 16/20\n",
            "469/469 [==============================] - 2s 5ms/step - loss: 0.3889 - accuracy: 0.8631\n",
            "Epoch 17/20\n",
            "469/469 [==============================] - 2s 4ms/step - loss: 0.3822 - accuracy: 0.8655\n",
            "Epoch 18/20\n",
            "469/469 [==============================] - 2s 4ms/step - loss: 0.3766 - accuracy: 0.8676\n",
            "Epoch 19/20\n",
            "469/469 [==============================] - 2s 4ms/step - loss: 0.3723 - accuracy: 0.8683\n",
            "Epoch 20/20\n",
            "469/469 [==============================] - 2s 3ms/step - loss: 0.3675 - accuracy: 0.8701\n"
          ]
        },
        {
          "output_type": "execute_result",
          "data": {
            "text/plain": [
              "<keras.callbacks.History at 0x7f508976f6d0>"
            ]
          },
          "metadata": {},
          "execution_count": 13
        }
      ]
    },
    {
      "cell_type": "code",
      "source": [
        "score = model.evaluate(X_test, Y_test, verbose=0)\n",
        "print('Test score:', score[0])\n",
        "print('Test accuracy:', score[1])"
      ],
      "metadata": {
        "colab": {
          "base_uri": "https://localhost:8080/"
        },
        "id": "g4B_p9aUAvwK",
        "outputId": "112d6e54-ca14-4cd8-be49-fd335ac6d569"
      },
      "execution_count": 14,
      "outputs": [
        {
          "output_type": "stream",
          "name": "stdout",
          "text": [
            "Test score: 0.4277898073196411\n",
            "Test accuracy: 0.8485999703407288\n"
          ]
        }
      ]
    },
    {
      "cell_type": "markdown",
      "source": [
        "## Parameters\n",
        "- Layers: 5\n",
        "- Activation Function: relu\n",
        "- Neurons: 10\n",
        "- Batch Size: 128"
      ],
      "metadata": {
        "id": "A7sStxKlBtZF"
      }
    },
    {
      "cell_type": "code",
      "source": [
        "model = Sequential()\n",
        "model.add(Dense(128, input_shape=(784,), activation=\"relu\"))\n",
        "model.add(Dense(64, activation=\"relu\"))\n",
        "model.add(Dense(32, activation=\"relu\"))\n",
        "model.add(Dense(16, activation=\"relu\"))\n",
        "model.add(Dense(10, activation=\"softmax\"))\n",
        "\n",
        "model.compile(optimizer='sgd', loss='categorical_crossentropy',\n",
        "              metrics=['accuracy'])\n",
        "\n",
        "model.fit(X_train, Y_train, batch_size=128, epochs=20, verbose=1)"
      ],
      "metadata": {
        "colab": {
          "base_uri": "https://localhost:8080/"
        },
        "id": "MIc7QZT5A02K",
        "outputId": "d043f67e-0b17-4494-8dec-1a6de66c8dd3"
      },
      "execution_count": 15,
      "outputs": [
        {
          "output_type": "stream",
          "name": "stdout",
          "text": [
            "Epoch 1/20\n",
            "469/469 [==============================] - 2s 4ms/step - loss: 1.5651 - accuracy: 0.4431\n",
            "Epoch 2/20\n",
            "469/469 [==============================] - 2s 4ms/step - loss: 0.7600 - accuracy: 0.7402\n",
            "Epoch 3/20\n",
            "469/469 [==============================] - 2s 4ms/step - loss: 0.6160 - accuracy: 0.7812\n",
            "Epoch 4/20\n",
            "469/469 [==============================] - 2s 3ms/step - loss: 0.5539 - accuracy: 0.8016\n",
            "Epoch 5/20\n",
            "469/469 [==============================] - 2s 4ms/step - loss: 0.5127 - accuracy: 0.8185\n",
            "Epoch 6/20\n",
            "469/469 [==============================] - 2s 3ms/step - loss: 0.4857 - accuracy: 0.8274\n",
            "Epoch 7/20\n",
            "469/469 [==============================] - 2s 3ms/step - loss: 0.4656 - accuracy: 0.8355\n",
            "Epoch 8/20\n",
            "469/469 [==============================] - 2s 4ms/step - loss: 0.4506 - accuracy: 0.8416\n",
            "Epoch 9/20\n",
            "469/469 [==============================] - 2s 3ms/step - loss: 0.4387 - accuracy: 0.8458\n",
            "Epoch 10/20\n",
            "469/469 [==============================] - 2s 3ms/step - loss: 0.4273 - accuracy: 0.8503\n",
            "Epoch 11/20\n",
            "469/469 [==============================] - 2s 4ms/step - loss: 0.4175 - accuracy: 0.8536\n",
            "Epoch 12/20\n",
            "469/469 [==============================] - 2s 4ms/step - loss: 0.4087 - accuracy: 0.8555\n",
            "Epoch 13/20\n",
            "469/469 [==============================] - 2s 4ms/step - loss: 0.4021 - accuracy: 0.8591\n",
            "Epoch 14/20\n",
            "469/469 [==============================] - 2s 4ms/step - loss: 0.3971 - accuracy: 0.8606\n",
            "Epoch 15/20\n",
            "469/469 [==============================] - 2s 4ms/step - loss: 0.3862 - accuracy: 0.8648\n",
            "Epoch 16/20\n",
            "469/469 [==============================] - 2s 4ms/step - loss: 0.3838 - accuracy: 0.8662\n",
            "Epoch 17/20\n",
            "469/469 [==============================] - 2s 4ms/step - loss: 0.3761 - accuracy: 0.8674\n",
            "Epoch 18/20\n",
            "469/469 [==============================] - 2s 3ms/step - loss: 0.3717 - accuracy: 0.8690\n",
            "Epoch 19/20\n",
            "469/469 [==============================] - 2s 3ms/step - loss: 0.3656 - accuracy: 0.8708\n",
            "Epoch 20/20\n",
            "469/469 [==============================] - 2s 4ms/step - loss: 0.3604 - accuracy: 0.8734\n"
          ]
        },
        {
          "output_type": "execute_result",
          "data": {
            "text/plain": [
              "<keras.callbacks.History at 0x7f50895d5610>"
            ]
          },
          "metadata": {},
          "execution_count": 15
        }
      ]
    },
    {
      "cell_type": "code",
      "source": [
        "score = model.evaluate(X_test, Y_test, verbose=0)\n",
        "print('Test score:', score[0])\n",
        "print('Test accuracy:', score[1])"
      ],
      "metadata": {
        "colab": {
          "base_uri": "https://localhost:8080/"
        },
        "id": "CFA3r9NMB15f",
        "outputId": "b5456e82-7faa-45aa-c72b-7d6facb7abc9"
      },
      "execution_count": 16,
      "outputs": [
        {
          "output_type": "stream",
          "name": "stdout",
          "text": [
            "Test score: 0.40321704745292664\n",
            "Test accuracy: 0.8585000038146973\n"
          ]
        }
      ]
    },
    {
      "cell_type": "markdown",
      "source": [
        "## Parameters\n",
        "- Layers: 3\n",
        "- Activation Function: relu\n",
        "- Neurons: 10\n",
        "- Batch Size: 64"
      ],
      "metadata": {
        "id": "Xv5-Zp_nC8zU"
      }
    },
    {
      "cell_type": "code",
      "source": [
        "model = Sequential()\n",
        "model.add(Dense(128, input_shape=(784,), activation=\"relu\"))\n",
        "model.add(Dense(64, activation=\"relu\"))\n",
        "model.add(Dense(10, activation=\"softmax\"))\n",
        "\n",
        "model.compile(optimizer='sgd', loss='categorical_crossentropy',\n",
        "              metrics=['accuracy'])\n",
        "\n",
        "model.fit(X_train, Y_train, batch_size=64, epochs=20, verbose=1)"
      ],
      "metadata": {
        "colab": {
          "base_uri": "https://localhost:8080/"
        },
        "id": "Vlz8LjXPCl7u",
        "outputId": "9435fe18-5adb-418e-e16b-772918c5448a"
      },
      "execution_count": 17,
      "outputs": [
        {
          "output_type": "stream",
          "name": "stdout",
          "text": [
            "Epoch 1/20\n",
            "938/938 [==============================] - 4s 3ms/step - loss: 0.8847 - accuracy: 0.7165\n",
            "Epoch 2/20\n",
            "938/938 [==============================] - 3s 3ms/step - loss: 0.5561 - accuracy: 0.8112\n",
            "Epoch 3/20\n",
            "938/938 [==============================] - 3s 3ms/step - loss: 0.4945 - accuracy: 0.8286\n",
            "Epoch 4/20\n",
            "938/938 [==============================] - 3s 3ms/step - loss: 0.4635 - accuracy: 0.8377\n",
            "Epoch 5/20\n",
            "938/938 [==============================] - 3s 3ms/step - loss: 0.4427 - accuracy: 0.8456\n",
            "Epoch 6/20\n",
            "938/938 [==============================] - 2s 3ms/step - loss: 0.4259 - accuracy: 0.8507\n",
            "Epoch 7/20\n",
            "938/938 [==============================] - 2s 3ms/step - loss: 0.4142 - accuracy: 0.8557\n",
            "Epoch 8/20\n",
            "938/938 [==============================] - 2s 3ms/step - loss: 0.4016 - accuracy: 0.8587\n",
            "Epoch 9/20\n",
            "938/938 [==============================] - 3s 3ms/step - loss: 0.3926 - accuracy: 0.8626\n",
            "Epoch 10/20\n",
            "938/938 [==============================] - 2s 3ms/step - loss: 0.3850 - accuracy: 0.8666\n",
            "Epoch 11/20\n",
            "938/938 [==============================] - 3s 3ms/step - loss: 0.3767 - accuracy: 0.8678\n",
            "Epoch 12/20\n",
            "938/938 [==============================] - 2s 3ms/step - loss: 0.3700 - accuracy: 0.8701\n",
            "Epoch 13/20\n",
            "938/938 [==============================] - 2s 3ms/step - loss: 0.3632 - accuracy: 0.8730\n",
            "Epoch 14/20\n",
            "938/938 [==============================] - 3s 3ms/step - loss: 0.3570 - accuracy: 0.8738\n",
            "Epoch 15/20\n",
            "938/938 [==============================] - 3s 3ms/step - loss: 0.3530 - accuracy: 0.8754\n",
            "Epoch 16/20\n",
            "938/938 [==============================] - 3s 3ms/step - loss: 0.3466 - accuracy: 0.8785\n",
            "Epoch 17/20\n",
            "938/938 [==============================] - 3s 3ms/step - loss: 0.3427 - accuracy: 0.8791\n",
            "Epoch 18/20\n",
            "938/938 [==============================] - 3s 3ms/step - loss: 0.3383 - accuracy: 0.8810\n",
            "Epoch 19/20\n",
            "938/938 [==============================] - 3s 3ms/step - loss: 0.3325 - accuracy: 0.8819\n",
            "Epoch 20/20\n",
            "938/938 [==============================] - 3s 3ms/step - loss: 0.3281 - accuracy: 0.8836\n"
          ]
        },
        {
          "output_type": "execute_result",
          "data": {
            "text/plain": [
              "<keras.callbacks.History at 0x7f5089446610>"
            ]
          },
          "metadata": {},
          "execution_count": 17
        }
      ]
    },
    {
      "cell_type": "code",
      "source": [
        "score = model.evaluate(X_test, Y_test, verbose=0)\n",
        "print('Test score:', score[0])\n",
        "print('Test accuracy:', score[1])"
      ],
      "metadata": {
        "colab": {
          "base_uri": "https://localhost:8080/"
        },
        "id": "lRU4Ja-aDJBl",
        "outputId": "3c9e6424-6a29-482a-b419-caaf18da4962"
      },
      "execution_count": 18,
      "outputs": [
        {
          "output_type": "stream",
          "name": "stdout",
          "text": [
            "Test score: 0.38053077459335327\n",
            "Test accuracy: 0.8654999732971191\n"
          ]
        }
      ]
    },
    {
      "cell_type": "markdown",
      "source": [
        "## Parameters\n",
        "- Layers: 5\n",
        "- Activation Function: tanh\n",
        "- Neurons: 10\n",
        "- Batch Size: 128"
      ],
      "metadata": {
        "id": "VrqnwmkyLdMx"
      }
    },
    {
      "cell_type": "code",
      "source": [
        "model = Sequential()\n",
        "model.add(Dense(128, input_shape=(784,), activation=\"relu\"))\n",
        "model.add(Dense(64, activation=\"tanh\"))\n",
        "model.add(Dense(32, activation=\"tanh\"))\n",
        "model.add(Dense(16, activation=\"tanh\"))\n",
        "model.add(Dense(10, activation=\"softmax\"))\n",
        "\n",
        "model.compile(optimizer='sgd', loss='categorical_crossentropy',\n",
        "              metrics=['accuracy'])\n",
        "\n",
        "model.fit(X_train, Y_train, batch_size=128, epochs=20, verbose=1)"
      ],
      "metadata": {
        "colab": {
          "base_uri": "https://localhost:8080/"
        },
        "id": "2alvf6BeLlnd",
        "outputId": "04aade2f-1336-4ba7-acf9-c48399ede23d"
      },
      "execution_count": 28,
      "outputs": [
        {
          "output_type": "stream",
          "name": "stdout",
          "text": [
            "Epoch 1/20\n",
            "469/469 [==============================] - 2s 4ms/step - loss: 1.3764 - accuracy: 0.6055\n",
            "Epoch 2/20\n",
            "469/469 [==============================] - 2s 4ms/step - loss: 0.8565 - accuracy: 0.7454\n",
            "Epoch 3/20\n",
            "469/469 [==============================] - 2s 4ms/step - loss: 0.6782 - accuracy: 0.7968\n",
            "Epoch 4/20\n",
            "469/469 [==============================] - 2s 3ms/step - loss: 0.5840 - accuracy: 0.8196\n",
            "Epoch 5/20\n",
            "469/469 [==============================] - 2s 3ms/step - loss: 0.5277 - accuracy: 0.8322\n",
            "Epoch 6/20\n",
            "469/469 [==============================] - 2s 4ms/step - loss: 0.4914 - accuracy: 0.8400\n",
            "Epoch 7/20\n",
            "469/469 [==============================] - 2s 4ms/step - loss: 0.4660 - accuracy: 0.8459\n",
            "Epoch 8/20\n",
            "469/469 [==============================] - 2s 4ms/step - loss: 0.4464 - accuracy: 0.8505\n",
            "Epoch 9/20\n",
            "469/469 [==============================] - 2s 4ms/step - loss: 0.4308 - accuracy: 0.8551\n",
            "Epoch 10/20\n",
            "469/469 [==============================] - 2s 4ms/step - loss: 0.4178 - accuracy: 0.8590\n",
            "Epoch 11/20\n",
            "469/469 [==============================] - 2s 3ms/step - loss: 0.4056 - accuracy: 0.8623\n",
            "Epoch 12/20\n",
            "469/469 [==============================] - 2s 3ms/step - loss: 0.3952 - accuracy: 0.8657\n",
            "Epoch 13/20\n",
            "469/469 [==============================] - 2s 4ms/step - loss: 0.3868 - accuracy: 0.8675\n",
            "Epoch 14/20\n",
            "469/469 [==============================] - 2s 4ms/step - loss: 0.3795 - accuracy: 0.8696\n",
            "Epoch 15/20\n",
            "469/469 [==============================] - 2s 4ms/step - loss: 0.3720 - accuracy: 0.8717\n",
            "Epoch 16/20\n",
            "469/469 [==============================] - 2s 4ms/step - loss: 0.3644 - accuracy: 0.8751\n",
            "Epoch 17/20\n",
            "469/469 [==============================] - 2s 4ms/step - loss: 0.3590 - accuracy: 0.8765\n",
            "Epoch 18/20\n",
            "469/469 [==============================] - 2s 4ms/step - loss: 0.3533 - accuracy: 0.8787\n",
            "Epoch 19/20\n",
            "469/469 [==============================] - 2s 5ms/step - loss: 0.3485 - accuracy: 0.8791\n",
            "Epoch 20/20\n",
            "469/469 [==============================] - 2s 4ms/step - loss: 0.3432 - accuracy: 0.8810\n"
          ]
        },
        {
          "output_type": "execute_result",
          "data": {
            "text/plain": [
              "<keras.callbacks.History at 0x7f507fbc6650>"
            ]
          },
          "metadata": {},
          "execution_count": 28
        }
      ]
    },
    {
      "cell_type": "code",
      "source": [
        "score = model.evaluate(X_test, Y_test, verbose=0)\n",
        "print('Test score:', score[0])\n",
        "print('Test accuracy:', score[1])"
      ],
      "metadata": {
        "colab": {
          "base_uri": "https://localhost:8080/"
        },
        "id": "IJt6O6BgL0Lz",
        "outputId": "a31773b0-db8c-4d37-cd1a-91f3e2429515"
      },
      "execution_count": 29,
      "outputs": [
        {
          "output_type": "stream",
          "name": "stdout",
          "text": [
            "Test score: 0.405254065990448\n",
            "Test accuracy: 0.8585000038146973\n"
          ]
        }
      ]
    },
    {
      "cell_type": "markdown",
      "source": [
        "## Parameters\n",
        "- Layers: 5\n",
        "- Activation Function: sigmoid\n",
        "- Neurons: 10\n",
        "- Batch Size: 64"
      ],
      "metadata": {
        "id": "kTfj7_GIMFq5"
      }
    },
    {
      "cell_type": "code",
      "source": [
        "model = Sequential()\n",
        "model.add(Dense(128, input_shape=(784,), activation=\"relu\"))\n",
        "model.add(Dense(64, activation=\"sigmoid\"))\n",
        "model.add(Dense(32, activation=\"sigmoid\"))\n",
        "model.add(Dense(16, activation=\"sigmoid\"))\n",
        "model.add(Dense(10, activation=\"softmax\"))\n",
        "\n",
        "model.compile(optimizer='sgd', loss='categorical_crossentropy',\n",
        "              metrics=['accuracy'])\n",
        "\n",
        "model.fit(X_train, Y_train, batch_size=64, epochs=20, verbose=1)"
      ],
      "metadata": {
        "colab": {
          "base_uri": "https://localhost:8080/"
        },
        "id": "LU1a0cYcMNdR",
        "outputId": "690d2133-73ca-46e7-864f-d0bccb39b555"
      },
      "execution_count": 30,
      "outputs": [
        {
          "output_type": "stream",
          "name": "stdout",
          "text": [
            "Epoch 1/20\n",
            "938/938 [==============================] - 3s 3ms/step - loss: 2.3103 - accuracy: 0.1617\n",
            "Epoch 2/20\n",
            "938/938 [==============================] - 3s 3ms/step - loss: 2.2843 - accuracy: 0.2561\n",
            "Epoch 3/20\n",
            "938/938 [==============================] - 3s 3ms/step - loss: 2.2596 - accuracy: 0.3517\n",
            "Epoch 4/20\n",
            "938/938 [==============================] - 3s 3ms/step - loss: 2.1928 - accuracy: 0.3741\n",
            "Epoch 5/20\n",
            "938/938 [==============================] - 3s 3ms/step - loss: 2.0315 - accuracy: 0.3571\n",
            "Epoch 6/20\n",
            "938/938 [==============================] - 3s 3ms/step - loss: 1.8234 - accuracy: 0.3686\n",
            "Epoch 7/20\n",
            "938/938 [==============================] - 3s 3ms/step - loss: 1.6539 - accuracy: 0.4415\n",
            "Epoch 8/20\n",
            "938/938 [==============================] - 3s 3ms/step - loss: 1.5032 - accuracy: 0.4958\n",
            "Epoch 9/20\n",
            "938/938 [==============================] - 3s 3ms/step - loss: 1.3714 - accuracy: 0.5214\n",
            "Epoch 10/20\n",
            "938/938 [==============================] - 3s 3ms/step - loss: 1.2705 - accuracy: 0.5452\n",
            "Epoch 11/20\n",
            "938/938 [==============================] - 3s 3ms/step - loss: 1.1952 - accuracy: 0.5582\n",
            "Epoch 12/20\n",
            "938/938 [==============================] - 3s 3ms/step - loss: 1.1369 - accuracy: 0.5701\n",
            "Epoch 13/20\n",
            "938/938 [==============================] - 3s 3ms/step - loss: 1.0895 - accuracy: 0.5831\n",
            "Epoch 14/20\n",
            "938/938 [==============================] - 3s 3ms/step - loss: 1.0494 - accuracy: 0.5882\n",
            "Epoch 15/20\n",
            "938/938 [==============================] - 3s 3ms/step - loss: 1.0149 - accuracy: 0.6045\n",
            "Epoch 16/20\n",
            "938/938 [==============================] - 3s 3ms/step - loss: 0.9849 - accuracy: 0.6174\n",
            "Epoch 17/20\n",
            "938/938 [==============================] - 3s 3ms/step - loss: 0.9583 - accuracy: 0.6260\n",
            "Epoch 18/20\n",
            "938/938 [==============================] - 3s 3ms/step - loss: 0.9344 - accuracy: 0.6402\n",
            "Epoch 19/20\n",
            "938/938 [==============================] - 3s 3ms/step - loss: 0.9126 - accuracy: 0.6518\n",
            "Epoch 20/20\n",
            "938/938 [==============================] - 3s 3ms/step - loss: 0.8922 - accuracy: 0.6637\n"
          ]
        },
        {
          "output_type": "execute_result",
          "data": {
            "text/plain": [
              "<keras.callbacks.History at 0x7f507fa4c790>"
            ]
          },
          "metadata": {},
          "execution_count": 30
        }
      ]
    },
    {
      "cell_type": "code",
      "source": [
        "score = model.evaluate(X_test, Y_test, verbose=0)\n",
        "print('Test score:', score[0])\n",
        "print('Test accuracy:', score[1])"
      ],
      "metadata": {
        "colab": {
          "base_uri": "https://localhost:8080/"
        },
        "id": "8K9xooe0MYxm",
        "outputId": "d32ed516-9ca4-4acf-efc0-0465c68bf6e1"
      },
      "execution_count": 31,
      "outputs": [
        {
          "output_type": "stream",
          "name": "stdout",
          "text": [
            "Test score: 0.8960497975349426\n",
            "Test accuracy: 0.6650000214576721\n"
          ]
        }
      ]
    },
    {
      "cell_type": "markdown",
      "source": [
        "## Parameters\n",
        "- Layers: 5\n",
        "- Activation Function: relu\n",
        "- Neurons: 10\n",
        "- Batch Size: 32"
      ],
      "metadata": {
        "id": "7zhxb6UTNO0J"
      }
    },
    {
      "cell_type": "code",
      "source": [
        "model = Sequential()\n",
        "model.add(Dense(128, input_shape=(784,), activation=\"relu\"))\n",
        "model.add(Dense(64, activation=\"relu\"))\n",
        "model.add(Dense(32, activation=\"relu\"))\n",
        "model.add(Dense(16, activation=\"relu\"))\n",
        "model.add(Dense(10, activation=\"softmax\"))\n",
        "\n",
        "model.compile(optimizer='sgd', loss='categorical_crossentropy',\n",
        "              metrics=['accuracy'])\n",
        "\n",
        "model.fit(X_train, Y_train, batch_size=32, epochs=20, verbose=1)"
      ],
      "metadata": {
        "colab": {
          "base_uri": "https://localhost:8080/"
        },
        "id": "u0WgDF1BNPvM",
        "outputId": "8fc6bafb-17d7-4785-92a8-f735401ea359"
      },
      "execution_count": 34,
      "outputs": [
        {
          "output_type": "stream",
          "name": "stdout",
          "text": [
            "Epoch 1/20\n",
            "1875/1875 [==============================] - 5s 2ms/step - loss: 0.9259 - accuracy: 0.6751\n",
            "Epoch 2/20\n",
            "1875/1875 [==============================] - 4s 2ms/step - loss: 0.5274 - accuracy: 0.8138\n",
            "Epoch 3/20\n",
            "1875/1875 [==============================] - 4s 2ms/step - loss: 0.4619 - accuracy: 0.8374\n",
            "Epoch 4/20\n",
            "1875/1875 [==============================] - 4s 2ms/step - loss: 0.4226 - accuracy: 0.8497\n",
            "Epoch 5/20\n",
            "1875/1875 [==============================] - 4s 2ms/step - loss: 0.3965 - accuracy: 0.8588\n",
            "Epoch 6/20\n",
            "1875/1875 [==============================] - 4s 2ms/step - loss: 0.3767 - accuracy: 0.8642\n",
            "Epoch 7/20\n",
            "1875/1875 [==============================] - 4s 2ms/step - loss: 0.3595 - accuracy: 0.8702\n",
            "Epoch 8/20\n",
            "1875/1875 [==============================] - 4s 2ms/step - loss: 0.3452 - accuracy: 0.8754\n",
            "Epoch 9/20\n",
            "1875/1875 [==============================] - 4s 2ms/step - loss: 0.3329 - accuracy: 0.8803\n",
            "Epoch 10/20\n",
            "1875/1875 [==============================] - 4s 2ms/step - loss: 0.3223 - accuracy: 0.8830\n",
            "Epoch 11/20\n",
            "1875/1875 [==============================] - 4s 2ms/step - loss: 0.3131 - accuracy: 0.8872\n",
            "Epoch 12/20\n",
            "1875/1875 [==============================] - 4s 2ms/step - loss: 0.3049 - accuracy: 0.8880\n",
            "Epoch 13/20\n",
            "1875/1875 [==============================] - 4s 2ms/step - loss: 0.2960 - accuracy: 0.8920\n",
            "Epoch 14/20\n",
            "1875/1875 [==============================] - 5s 2ms/step - loss: 0.2892 - accuracy: 0.8943\n",
            "Epoch 15/20\n",
            "1875/1875 [==============================] - 4s 2ms/step - loss: 0.2824 - accuracy: 0.8975\n",
            "Epoch 16/20\n",
            "1875/1875 [==============================] - 4s 2ms/step - loss: 0.2759 - accuracy: 0.8993\n",
            "Epoch 17/20\n",
            "1875/1875 [==============================] - 4s 2ms/step - loss: 0.2703 - accuracy: 0.8996\n",
            "Epoch 18/20\n",
            "1875/1875 [==============================] - 4s 2ms/step - loss: 0.2647 - accuracy: 0.9028\n",
            "Epoch 19/20\n",
            "1875/1875 [==============================] - 4s 2ms/step - loss: 0.2594 - accuracy: 0.9043\n",
            "Epoch 20/20\n",
            "1875/1875 [==============================] - 4s 2ms/step - loss: 0.2541 - accuracy: 0.9061\n"
          ]
        },
        {
          "output_type": "execute_result",
          "data": {
            "text/plain": [
              "<keras.callbacks.History at 0x7f507f03a5d0>"
            ]
          },
          "metadata": {},
          "execution_count": 34
        }
      ]
    },
    {
      "cell_type": "code",
      "source": [
        "score = model.evaluate(X_test, Y_test, verbose=0)\n",
        "print('Test score:', score[0])\n",
        "print('Test accuracy:', score[1])"
      ],
      "metadata": {
        "colab": {
          "base_uri": "https://localhost:8080/"
        },
        "id": "4ogshKFJNfFh",
        "outputId": "996ed2ae-e201-4812-ba45-d5da2909a51a"
      },
      "execution_count": 35,
      "outputs": [
        {
          "output_type": "stream",
          "name": "stdout",
          "text": [
            "Test score: 0.3453803062438965\n",
            "Test accuracy: 0.8787999749183655\n"
          ]
        }
      ]
    },
    {
      "cell_type": "markdown",
      "source": [
        "## Parameters\n",
        "- Layers: 5\n",
        "- Activation Function: relu\n",
        "- Neurons: 10\n",
        "- Batch Size: 64"
      ],
      "metadata": {
        "id": "B-vSKfR6OAOv"
      }
    },
    {
      "cell_type": "code",
      "source": [
        "model = Sequential()\n",
        "model.add(Dense(128, input_shape=(784,), activation=\"relu\"))\n",
        "model.add(Dense(64, activation=\"relu\"))\n",
        "model.add(Dense(32, activation=\"relu\"))\n",
        "model.add(Dense(16, activation=\"relu\"))\n",
        "model.add(Dense(10, activation=\"softmax\"))\n",
        "\n",
        "model.compile(optimizer='sgd', loss='categorical_crossentropy',\n",
        "              metrics=['accuracy'])\n",
        "\n",
        "model.fit(X_train, Y_train, batch_size=64, epochs=20, verbose=1)"
      ],
      "metadata": {
        "colab": {
          "base_uri": "https://localhost:8080/"
        },
        "id": "KBTfC-TfOAo1",
        "outputId": "788fbf6a-c4d5-405d-b491-02fe5b9ce376"
      },
      "execution_count": 38,
      "outputs": [
        {
          "output_type": "stream",
          "name": "stdout",
          "text": [
            "Epoch 1/20\n",
            "938/938 [==============================] - 3s 3ms/step - loss: 1.1882 - accuracy: 0.6053\n",
            "Epoch 2/20\n",
            "938/938 [==============================] - 3s 3ms/step - loss: 0.6030 - accuracy: 0.7966\n",
            "Epoch 3/20\n",
            "938/938 [==============================] - 3s 3ms/step - loss: 0.5071 - accuracy: 0.8248\n",
            "Epoch 4/20\n",
            "938/938 [==============================] - 3s 3ms/step - loss: 0.4687 - accuracy: 0.8353\n",
            "Epoch 5/20\n",
            "938/938 [==============================] - 3s 3ms/step - loss: 0.4422 - accuracy: 0.8461\n",
            "Epoch 6/20\n",
            "938/938 [==============================] - 3s 3ms/step - loss: 0.4233 - accuracy: 0.8509\n",
            "Epoch 7/20\n",
            "938/938 [==============================] - 3s 3ms/step - loss: 0.4083 - accuracy: 0.8554\n",
            "Epoch 8/20\n",
            "938/938 [==============================] - 3s 3ms/step - loss: 0.3956 - accuracy: 0.8600\n",
            "Epoch 9/20\n",
            "938/938 [==============================] - 3s 3ms/step - loss: 0.3821 - accuracy: 0.8641\n",
            "Epoch 10/20\n",
            "938/938 [==============================] - 3s 3ms/step - loss: 0.3732 - accuracy: 0.8666\n",
            "Epoch 11/20\n",
            "938/938 [==============================] - 3s 3ms/step - loss: 0.3634 - accuracy: 0.8700\n",
            "Epoch 12/20\n",
            "938/938 [==============================] - 3s 3ms/step - loss: 0.3550 - accuracy: 0.8721\n",
            "Epoch 13/20\n",
            "938/938 [==============================] - 3s 3ms/step - loss: 0.3476 - accuracy: 0.8752\n",
            "Epoch 14/20\n",
            "938/938 [==============================] - 3s 3ms/step - loss: 0.3387 - accuracy: 0.8779\n",
            "Epoch 15/20\n",
            "938/938 [==============================] - 3s 3ms/step - loss: 0.3333 - accuracy: 0.8800\n",
            "Epoch 16/20\n",
            "938/938 [==============================] - 3s 3ms/step - loss: 0.3245 - accuracy: 0.8818\n",
            "Epoch 17/20\n",
            "938/938 [==============================] - 3s 3ms/step - loss: 0.3198 - accuracy: 0.8840\n",
            "Epoch 18/20\n",
            "938/938 [==============================] - 3s 3ms/step - loss: 0.3124 - accuracy: 0.8865\n",
            "Epoch 19/20\n",
            "938/938 [==============================] - 3s 3ms/step - loss: 0.3071 - accuracy: 0.8875\n",
            "Epoch 20/20\n",
            "938/938 [==============================] - 3s 3ms/step - loss: 0.3012 - accuracy: 0.8899\n"
          ]
        },
        {
          "output_type": "execute_result",
          "data": {
            "text/plain": [
              "<keras.callbacks.History at 0x7f507ee63a10>"
            ]
          },
          "metadata": {},
          "execution_count": 38
        }
      ]
    },
    {
      "cell_type": "code",
      "source": [
        "score = model.evaluate(X_test, Y_test, verbose=0)\n",
        "print('Test score:', score[0])\n",
        "print('Test accuracy:', score[1])"
      ],
      "metadata": {
        "colab": {
          "base_uri": "https://localhost:8080/"
        },
        "id": "-raP98cqOAzs",
        "outputId": "d68331f5-51e4-4c0b-a270-b3dc7680b10d"
      },
      "execution_count": 39,
      "outputs": [
        {
          "output_type": "stream",
          "name": "stdout",
          "text": [
            "Test score: 0.42057231068611145\n",
            "Test accuracy: 0.8519999980926514\n"
          ]
        }
      ]
    },
    {
      "cell_type": "markdown",
      "source": [
        "## Parameters\n",
        "- Layers: 5\n",
        "- Activation Function: tanh\n",
        "- Neurons: 10\n",
        "- Batch Size: 32"
      ],
      "metadata": {
        "id": "od7LuYlrOnG1"
      }
    },
    {
      "cell_type": "code",
      "source": [
        "model = Sequential()\n",
        "model.add(Dense(128, input_shape=(784,), activation=\"relu\"))\n",
        "model.add(Dense(64, activation=\"tanh\"))\n",
        "model.add(Dense(32, activation=\"tanh\"))\n",
        "model.add(Dense(16, activation=\"tanh\"))\n",
        "model.add(Dense(10, activation=\"softmax\"))\n",
        "\n",
        "model.compile(optimizer='sgd', loss='categorical_crossentropy',\n",
        "              metrics=['accuracy'])\n",
        "\n",
        "model.fit(X_train, Y_train, batch_size=32, epochs=20, verbose=1)"
      ],
      "metadata": {
        "colab": {
          "base_uri": "https://localhost:8080/"
        },
        "id": "f01IBArTOnaQ",
        "outputId": "988cc08a-f8e5-4c1d-d5bd-132c4d7cc451"
      },
      "execution_count": 42,
      "outputs": [
        {
          "output_type": "stream",
          "name": "stdout",
          "text": [
            "Epoch 1/20\n",
            "1875/1875 [==============================] - 5s 2ms/step - loss: 0.8292 - accuracy: 0.7551\n",
            "Epoch 2/20\n",
            "1875/1875 [==============================] - 4s 2ms/step - loss: 0.4942 - accuracy: 0.8339\n",
            "Epoch 3/20\n",
            "1875/1875 [==============================] - 4s 2ms/step - loss: 0.4299 - accuracy: 0.8514\n",
            "Epoch 4/20\n",
            "1875/1875 [==============================] - 4s 2ms/step - loss: 0.3946 - accuracy: 0.8625\n",
            "Epoch 5/20\n",
            "1875/1875 [==============================] - 4s 2ms/step - loss: 0.3703 - accuracy: 0.8695\n",
            "Epoch 6/20\n",
            "1875/1875 [==============================] - 4s 2ms/step - loss: 0.3534 - accuracy: 0.8753\n",
            "Epoch 7/20\n",
            "1875/1875 [==============================] - 4s 2ms/step - loss: 0.3382 - accuracy: 0.8801\n",
            "Epoch 8/20\n",
            "1875/1875 [==============================] - 4s 2ms/step - loss: 0.3265 - accuracy: 0.8833\n",
            "Epoch 9/20\n",
            "1875/1875 [==============================] - 5s 2ms/step - loss: 0.3163 - accuracy: 0.8870\n",
            "Epoch 10/20\n",
            "1875/1875 [==============================] - 5s 3ms/step - loss: 0.3066 - accuracy: 0.8904\n",
            "Epoch 11/20\n",
            "1875/1875 [==============================] - 5s 3ms/step - loss: 0.2980 - accuracy: 0.8923\n",
            "Epoch 12/20\n",
            "1875/1875 [==============================] - 4s 2ms/step - loss: 0.2895 - accuracy: 0.8954\n",
            "Epoch 13/20\n",
            "1875/1875 [==============================] - 4s 2ms/step - loss: 0.2828 - accuracy: 0.8979\n",
            "Epoch 14/20\n",
            "1875/1875 [==============================] - 4s 2ms/step - loss: 0.2769 - accuracy: 0.8999\n",
            "Epoch 15/20\n",
            "1875/1875 [==============================] - 4s 2ms/step - loss: 0.2702 - accuracy: 0.9018\n",
            "Epoch 16/20\n",
            "1875/1875 [==============================] - 4s 2ms/step - loss: 0.2650 - accuracy: 0.9039\n",
            "Epoch 17/20\n",
            "1875/1875 [==============================] - 4s 2ms/step - loss: 0.2589 - accuracy: 0.9068\n",
            "Epoch 18/20\n",
            "1875/1875 [==============================] - 4s 2ms/step - loss: 0.2538 - accuracy: 0.9093\n",
            "Epoch 19/20\n",
            "1875/1875 [==============================] - 4s 2ms/step - loss: 0.2488 - accuracy: 0.9100\n",
            "Epoch 20/20\n",
            "1875/1875 [==============================] - 5s 3ms/step - loss: 0.2437 - accuracy: 0.9124\n"
          ]
        },
        {
          "output_type": "execute_result",
          "data": {
            "text/plain": [
              "<keras.callbacks.History at 0x7f507ed55590>"
            ]
          },
          "metadata": {},
          "execution_count": 42
        }
      ]
    },
    {
      "cell_type": "code",
      "source": [
        "score = model.evaluate(X_test, Y_test, verbose=0)\n",
        "print('Test score:', score[0])\n",
        "print('Test accuracy:', score[1])"
      ],
      "metadata": {
        "colab": {
          "base_uri": "https://localhost:8080/"
        },
        "id": "rGSvoihWOnj_",
        "outputId": "cbdf390c-8753-4536-ade1-b48209eefa0d"
      },
      "execution_count": 43,
      "outputs": [
        {
          "output_type": "stream",
          "name": "stdout",
          "text": [
            "Test score: 0.35597342252731323\n",
            "Test accuracy: 0.8720999956130981\n"
          ]
        }
      ]
    },
    {
      "cell_type": "markdown",
      "source": [
        "## Parameters\n",
        "- Layers: 4\n",
        "- Activation Function: tanh\n",
        "- Neurons: 10\n",
        "- Batch Size: 64"
      ],
      "metadata": {
        "id": "y2nuWuxuPj4x"
      }
    },
    {
      "cell_type": "code",
      "source": [
        "model = Sequential()\n",
        "model.add(Dense(128, input_shape=(784,), activation=\"relu\"))\n",
        "model.add(Dense(64, activation=\"tanh\"))\n",
        "model.add(Dense(32, activation=\"tanh\"))\n",
        "model.add(Dense(10, activation=\"softmax\"))\n",
        "\n",
        "model.compile(optimizer='sgd', loss='categorical_crossentropy',\n",
        "              metrics=['accuracy'])\n",
        "\n",
        "model.fit(X_train, Y_train, batch_size=64, epochs=20, verbose=1)"
      ],
      "metadata": {
        "colab": {
          "base_uri": "https://localhost:8080/"
        },
        "id": "onCMW20DPkLS",
        "outputId": "68dbec04-7f93-44e8-9778-46c1a70621a0"
      },
      "execution_count": 44,
      "outputs": [
        {
          "output_type": "stream",
          "name": "stdout",
          "text": [
            "Epoch 1/20\n",
            "938/938 [==============================] - 3s 3ms/step - loss: 0.9057 - accuracy: 0.7276\n",
            "Epoch 2/20\n",
            "938/938 [==============================] - 3s 3ms/step - loss: 0.5481 - accuracy: 0.8131\n",
            "Epoch 3/20\n",
            "938/938 [==============================] - 3s 3ms/step - loss: 0.4793 - accuracy: 0.8332\n",
            "Epoch 4/20\n",
            "938/938 [==============================] - 3s 3ms/step - loss: 0.4431 - accuracy: 0.8440\n",
            "Epoch 5/20\n",
            "938/938 [==============================] - 3s 3ms/step - loss: 0.4187 - accuracy: 0.8520\n",
            "Epoch 6/20\n",
            "938/938 [==============================] - 3s 3ms/step - loss: 0.4012 - accuracy: 0.8579\n",
            "Epoch 7/20\n",
            "938/938 [==============================] - 3s 3ms/step - loss: 0.3860 - accuracy: 0.8634\n",
            "Epoch 8/20\n",
            "938/938 [==============================] - 3s 3ms/step - loss: 0.3743 - accuracy: 0.8671\n",
            "Epoch 9/20\n",
            "938/938 [==============================] - 3s 3ms/step - loss: 0.3648 - accuracy: 0.8697\n",
            "Epoch 10/20\n",
            "938/938 [==============================] - 3s 3ms/step - loss: 0.3558 - accuracy: 0.8731\n",
            "Epoch 11/20\n",
            "938/938 [==============================] - 3s 3ms/step - loss: 0.3484 - accuracy: 0.8749\n",
            "Epoch 12/20\n",
            "938/938 [==============================] - 3s 3ms/step - loss: 0.3418 - accuracy: 0.8777\n",
            "Epoch 13/20\n",
            "938/938 [==============================] - 3s 3ms/step - loss: 0.3348 - accuracy: 0.8800\n",
            "Epoch 14/20\n",
            "938/938 [==============================] - 3s 4ms/step - loss: 0.3291 - accuracy: 0.8824\n",
            "Epoch 15/20\n",
            "938/938 [==============================] - 3s 3ms/step - loss: 0.3241 - accuracy: 0.8834\n",
            "Epoch 16/20\n",
            "938/938 [==============================] - 3s 3ms/step - loss: 0.3191 - accuracy: 0.8853\n",
            "Epoch 17/20\n",
            "938/938 [==============================] - 3s 3ms/step - loss: 0.3138 - accuracy: 0.8877\n",
            "Epoch 18/20\n",
            "938/938 [==============================] - 3s 3ms/step - loss: 0.3091 - accuracy: 0.8887\n",
            "Epoch 19/20\n",
            "938/938 [==============================] - 2s 3ms/step - loss: 0.3044 - accuracy: 0.8908\n",
            "Epoch 20/20\n",
            "938/938 [==============================] - 3s 3ms/step - loss: 0.3001 - accuracy: 0.8913\n"
          ]
        },
        {
          "output_type": "execute_result",
          "data": {
            "text/plain": [
              "<keras.callbacks.History at 0x7f507aab1050>"
            ]
          },
          "metadata": {},
          "execution_count": 44
        }
      ]
    },
    {
      "cell_type": "code",
      "source": [
        "score = model.evaluate(X_test, Y_test, verbose=0)\n",
        "print('Test score:', score[0])\n",
        "print('Test accuracy:', score[1])"
      ],
      "metadata": {
        "colab": {
          "base_uri": "https://localhost:8080/"
        },
        "id": "m319Tq2yPkSi",
        "outputId": "cfee478e-9d9a-4a9d-80f6-f322f3f8d71a"
      },
      "execution_count": 45,
      "outputs": [
        {
          "output_type": "stream",
          "name": "stdout",
          "text": [
            "Test score: 0.37232980132102966\n",
            "Test accuracy: 0.8658000230789185\n"
          ]
        }
      ]
    },
    {
      "cell_type": "markdown",
      "source": [
        "# Results and Conclusions"
      ],
      "metadata": {
        "id": "XQEl5JdKGu3O"
      }
    },
    {
      "cell_type": "code",
      "source": [
        "table = [['Epoch', 'Layers', 'Activation', 'Neurons', 'Batch', 'Train Score', 'Train Acc', 'Test Score', 'Test Acc'], \n",
        "         ['20', '3', 'relu', '10', '8', '0.2109', '0.9207', '0.3339', '0.8803'], \n",
        "         ['20', '3', 'relu', '10', '128', '0.3780', '0.8675', '0.4166', '0.8536'], \n",
        "         ['20', '3', 'tanh', '10', '128', '0.3752', '0.8664', '0.4134', '0.8512'], \n",
        "         ['20', '3', 'sigmoid', '10', '128', '0.7385', '0.7359', '0.7447', '0.7267'], \n",
        "         ['20', '4', 'relu', '10', '128', '0.3675', '0.8701', '0.4278', '0.8486'], \n",
        "         ['20', '5', 'relu', '10', '128', '0.3604', '0.8734', '0.4032', '0.8585'], \n",
        "         ['20', '3', 'relu', '10', '64', '0.3281', '0.8836', '0.3805', '0.8655'], \n",
        "         ['20', '5', 'tanh', '10', '128', '0.3432', '0.8810', '0.4053', '0.8585'], \n",
        "         ['20', '5', 'sigmoid', '10', '64', '0.8922', '0.6637', '0.8960', '0.6650'], \n",
        "         ['20', '5', 'relu', '10', '32', '0.2541', '0.9061', '0.3454', '0.8788'], \n",
        "         ['20', '5', 'relu', '10', '64', '0.3012', '0.8899', '0.4206', '0.8520'], \n",
        "         ['20', '5', 'tanh', '10', '32', '0.2437', '0.9124', '0.3560', '0.8721'], \n",
        "         ['20', '4', 'tanh', '10', '64', '0.3001', '0.8913', '0.3723', '0.8658']]"
      ],
      "metadata": {
        "id": "SOB0pAlEHDPi"
      },
      "execution_count": 46,
      "outputs": []
    },
    {
      "cell_type": "code",
      "source": [
        "from tabulate import tabulate\n",
        "\n",
        "print(tabulate(table))"
      ],
      "metadata": {
        "colab": {
          "base_uri": "https://localhost:8080/"
        },
        "id": "KUGcXfT9KaXh",
        "outputId": "a784b071-b240-4312-d885-7e5dd31f296c"
      },
      "execution_count": 47,
      "outputs": [
        {
          "output_type": "stream",
          "name": "stdout",
          "text": [
            "-----  ------  ----------  -------  -----  -----------  ---------  ----------  --------\n",
            "Epoch  Layers  Activation  Neurons  Batch  Train Score  Train Acc  Test Score  Test Acc\n",
            "20     3       relu        10       8      0.2109       0.9207     0.3339      0.8803\n",
            "20     3       relu        10       128    0.3780       0.8675     0.4166      0.8536\n",
            "20     3       tanh        10       128    0.3752       0.8664     0.4134      0.8512\n",
            "20     3       sigmoid     10       128    0.7385       0.7359     0.7447      0.7267\n",
            "20     4       relu        10       128    0.3675       0.8701     0.4278      0.8486\n",
            "20     5       relu        10       128    0.3604       0.8734     0.4032      0.8585\n",
            "20     3       relu        10       64     0.3281       0.8836     0.3805      0.8655\n",
            "20     5       tanh        10       128    0.3432       0.8810     0.4053      0.8585\n",
            "20     5       sigmoid     10       64     0.8922       0.6637     0.8960      0.6650\n",
            "20     5       relu        10       32     0.2541       0.9061     0.3454      0.8788\n",
            "20     5       relu        10       64     0.3012       0.8899     0.4206      0.8520\n",
            "20     5       tanh        10       32     0.2437       0.9124     0.3560      0.8721\n",
            "20     4       tanh        10       64     0.3001       0.8913     0.3723      0.8658\n",
            "-----  ------  ----------  -------  -----  -----------  ---------  ----------  --------\n"
          ]
        }
      ]
    },
    {
      "cell_type": "markdown",
      "source": [
        "None of the models performed at that high of a level. It was a challenge to get good accuracy and score readings while not overfitting the model. I feel the best model is the 3 layer, tanh activation, 10 neuron, 128 batch because even though the accuracy and score values aren't the best, the difference in the train and test values are closer than most of the other models."
      ],
      "metadata": {
        "id": "YPCt6JI5M2A3"
      }
    }
  ]
}